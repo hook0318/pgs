{
 "cells": [
  {
   "cell_type": "markdown",
   "id": "9cd438c1",
   "metadata": {},
   "source": [
    "# 음식배달의 시간 예측하기 (A-김현우)"
   ]
  },
  {
   "cell_type": "markdown",
   "id": "753094ab",
   "metadata": {},
   "source": [
    "## 1. 큰 그림 보기\n",
    "\n",
    "### 풀어야 할 문제 : 레스토랑들의 데이터를 사용하여 음식배달에 걸리는 시간 모델을 만드는 것\n",
    "- 예측된 배달시간보다 실제 배달시간이 더 걸린 경우(under-prediction)가 반대의 경우(over-prediction)보다 **두 배**로 사용자의 경험에 안 좋은 영향을 준다고 알려져 있습니다.\n",
    "- 가능한 실제 배달시간과 가까운 값을 예측하되 동시에 under-prediction을 최소화하는 것이 좋은 예측모델입니다.\n",
    "- 테스트 데이터에 대한 평가지표들  \n",
    "Mean Absolute Error (MAE)  \n",
    "Under-prediction의 비율 (under-prediction 개수 / 테스트 데이터의 샘플수)"
   ]
  },
  {
   "cell_type": "markdown",
   "id": "96bcd4db",
   "metadata": {},
   "source": [
    "### 문제 정의\n",
    "- 지도학습(supervised learning) \n",
    "- 회귀문제(regresssion)\n",
    "- 배치학습(batch learning)"
   ]
  },
  {
   "cell_type": "markdown",
   "id": "4038e1ed",
   "metadata": {},
   "source": [
    "### 성능측정지표(performance measure) 선택\n",
    "\n",
    "#### 1. 평균절대 오차 MAE (Mean Absolute Error)\n",
    "\n",
    "$\\mathrm{MAE}(\\mathbf{X}, h) = \\frac{1}{m}\\sum_{i=1}^{m}\\vert(h\\left(\\mathbf{x}^{(i)}\\right)-y^{(i)}\\vert$\n",
    "\n",
    "- $m$: 데이터셋에 있는 샘플 수\n",
    "- $\\mathbf{x}^{(i)}$: $i$번째 샘플의 전체 특성값의 벡터(vector)\n",
    "- $y^{(i)}$: $i$번째 샘플의 label(해당 샘플의 기대 출력값)\n",
    "\\begin{align*}\n",
    "\\mathbf{x}^{(1)} = \\begin{bmatrix}\n",
    "           -118.29 \\\\\n",
    "           33.91 \\\\\n",
    "           1,416 \\\\\n",
    "           38,372\n",
    "\\end{bmatrix}\n",
    "\\end{align*}\n",
    "\n",
    "$$y^{(1)} = 156,400$$\n",
    "- $\\mathbf{X}$: 데이터셋 모든 샘플의 모든 특성값(features)을 포함하는 행렬(matrix)  \n",
    "\n",
    "\\begin{align*}\n",
    "\\mathbf{X} = \\begin{bmatrix}\n",
    "           \\left(\\mathbf{x}^{(1)}\\right)^T \\\\\n",
    "           \\left(\\mathbf{x}^{(2)}\\right)^T \\\\\n",
    "           \\vdots \\\\\n",
    "           \\left(\\mathbf{x}^{(2000)}\\right)^T\n",
    "           \\end{bmatrix}\n",
    "           = \\begin{bmatrix}\n",
    "           -188.29 & 33.91 & 1,416 & 38,372 \\\\\n",
    "           \\vdots & \\vdots & \\vdots & \\vdots\n",
    "           \\end{bmatrix}\n",
    "\\end{align*}\n",
    "\n",
    "- $h$: 예측함수(prediction function). 하나의 샘플 $\\mathbf{x}^{(i)}$에 대해 예측값 $\\hat{y}^{(i)} = h\\left(\\mathbf{x}^{(i)}\\right)$를 출력함.\n",
    "- $\\mathrm{MAE}(\\mathbf{X}, h)$: 모델 $h$가 얼마나 좋은지 평가하는 지표, 또는 비용함수(cost function)\n",
    ">- $\\mathrm{MAE}$는 실제 값과 예측 값의 차이(Error)를 절대값으로 변환해 평균화 \n",
    "```python\n",
    "from sklearn.metrics import mean_absolute_error\n",
    "mean_absolute_error(y_test, y_pred)\n",
    "```\n",
    "\n",
    "\n",
    "- 에러에 절대값을 취하기 때문에 에러의 크기 그대로 반영된다.  \n",
    "그러므로 예측 결과물의 **에러가 10이 나온 것이 5로 나온 것보다 2배가 나쁜 도메인**에서 쓰기 적합한 산식이다.\n",
    "- 에러에 따른 손실이 선형적으로 올라갈 때 적합하다.\n",
    "- 이상치가 많을 때\n",
    "\n",
    "참고 : https://mizykk.tistory.com/102"
   ]
  },
  {
   "cell_type": "markdown",
   "id": "82385edf",
   "metadata": {},
   "source": [
    "#### 2. Under-prediction의 비율 \n",
    "under-prediction 개수 / 테스트 데이터의 샘플수"
   ]
  },
  {
   "cell_type": "markdown",
   "id": "de3ce8ee",
   "metadata": {},
   "source": [
    "-----"
   ]
  },
  {
   "cell_type": "markdown",
   "id": "75ceafb2",
   "metadata": {},
   "source": [
    "## 2. 셋팅 및 데이터 가져오기"
   ]
  },
  {
   "cell_type": "code",
   "execution_count": 1,
   "id": "6c06e835",
   "metadata": {},
   "outputs": [],
   "source": [
    "import os\n",
    "import pandas as pd\n",
    "\n",
    "REST_PATH = os.path.join(\"datasets\", \"restaurant\")\n",
    "\n",
    "def load_restaurant_data(rest_path=REST_PATH):\n",
    "    csv_path = os.path.join(rest_path, \"predict_delivery_time.csv\")\n",
    "    return pd.read_csv(csv_path)\n",
    "\n",
    "rest = load_restaurant_data() # csv -> dp 데이터 가져오기"
   ]
  },
  {
   "cell_type": "markdown",
   "id": "94cfb33c",
   "metadata": {},
   "source": [
    "-----"
   ]
  },
  {
   "cell_type": "markdown",
   "id": "13f4b31f",
   "metadata": {},
   "source": [
    "## 3. 데이터로부터 통찰을 얻기 위해 탐색과 시각화"
   ]
  },
  {
   "cell_type": "markdown",
   "id": "df189a62",
   "metadata": {},
   "source": [
    "### 데이터 구조 톺아보기"
   ]
  },
  {
   "cell_type": "code",
   "execution_count": 2,
   "id": "fa995ebe",
   "metadata": {},
   "outputs": [
    {
     "data": {
      "text/html": [
       "<div>\n",
       "<style scoped>\n",
       "    .dataframe tbody tr th:only-of-type {\n",
       "        vertical-align: middle;\n",
       "    }\n",
       "\n",
       "    .dataframe tbody tr th {\n",
       "        vertical-align: top;\n",
       "    }\n",
       "\n",
       "    .dataframe thead th {\n",
       "        text-align: right;\n",
       "    }\n",
       "</style>\n",
       "<table border=\"1\" class=\"dataframe\">\n",
       "  <thead>\n",
       "    <tr style=\"text-align: right;\">\n",
       "      <th></th>\n",
       "      <th>Restaurant</th>\n",
       "      <th>Location</th>\n",
       "      <th>Cuisines</th>\n",
       "      <th>AverageCost</th>\n",
       "      <th>MinimumOrder</th>\n",
       "      <th>Rating</th>\n",
       "      <th>Votes</th>\n",
       "      <th>Reviews</th>\n",
       "      <th>DeliveryTime</th>\n",
       "    </tr>\n",
       "  </thead>\n",
       "  <tbody>\n",
       "    <tr>\n",
       "      <th>0</th>\n",
       "      <td>ID6321</td>\n",
       "      <td>FTI College, Law College Road, Pune</td>\n",
       "      <td>Fast Food, Rolls, Burger, Salad, Wraps</td>\n",
       "      <td>200</td>\n",
       "      <td>50</td>\n",
       "      <td>3.5</td>\n",
       "      <td>12.0</td>\n",
       "      <td>4.0</td>\n",
       "      <td>30</td>\n",
       "    </tr>\n",
       "    <tr>\n",
       "      <th>1</th>\n",
       "      <td>ID2882</td>\n",
       "      <td>Sector 3, Marathalli</td>\n",
       "      <td>Ice Cream, Desserts</td>\n",
       "      <td>100</td>\n",
       "      <td>50</td>\n",
       "      <td>3.5</td>\n",
       "      <td>11.0</td>\n",
       "      <td>4.0</td>\n",
       "      <td>30</td>\n",
       "    </tr>\n",
       "    <tr>\n",
       "      <th>2</th>\n",
       "      <td>ID1595</td>\n",
       "      <td>Mumbai Central</td>\n",
       "      <td>Italian, Street Food, Fast Food</td>\n",
       "      <td>150</td>\n",
       "      <td>50</td>\n",
       "      <td>3.6</td>\n",
       "      <td>99.0</td>\n",
       "      <td>30.0</td>\n",
       "      <td>65</td>\n",
       "    </tr>\n",
       "    <tr>\n",
       "      <th>3</th>\n",
       "      <td>ID5929</td>\n",
       "      <td>Sector 1, Noida</td>\n",
       "      <td>Mughlai, North Indian, Chinese</td>\n",
       "      <td>250</td>\n",
       "      <td>99</td>\n",
       "      <td>3.7</td>\n",
       "      <td>176.0</td>\n",
       "      <td>95.0</td>\n",
       "      <td>30</td>\n",
       "    </tr>\n",
       "    <tr>\n",
       "      <th>4</th>\n",
       "      <td>ID6123</td>\n",
       "      <td>Rmz Centennial, I Gate, Whitefield</td>\n",
       "      <td>Cafe, Beverages</td>\n",
       "      <td>200</td>\n",
       "      <td>99</td>\n",
       "      <td>3.2</td>\n",
       "      <td>521.0</td>\n",
       "      <td>235.0</td>\n",
       "      <td>65</td>\n",
       "    </tr>\n",
       "  </tbody>\n",
       "</table>\n",
       "</div>"
      ],
      "text/plain": [
       "  Restaurant                             Location  \\\n",
       "0     ID6321  FTI College, Law College Road, Pune   \n",
       "1     ID2882                 Sector 3, Marathalli   \n",
       "2     ID1595                       Mumbai Central   \n",
       "3     ID5929                      Sector 1, Noida   \n",
       "4     ID6123   Rmz Centennial, I Gate, Whitefield   \n",
       "\n",
       "                                 Cuisines AverageCost  MinimumOrder Rating  \\\n",
       "0  Fast Food, Rolls, Burger, Salad, Wraps         200            50    3.5   \n",
       "1                     Ice Cream, Desserts         100            50    3.5   \n",
       "2         Italian, Street Food, Fast Food         150            50    3.6   \n",
       "3          Mughlai, North Indian, Chinese         250            99    3.7   \n",
       "4                         Cafe, Beverages         200            99    3.2   \n",
       "\n",
       "   Votes  Reviews  DeliveryTime  \n",
       "0   12.0      4.0            30  \n",
       "1   11.0      4.0            30  \n",
       "2   99.0     30.0            65  \n",
       "3  176.0     95.0            30  \n",
       "4  521.0    235.0            65  "
      ]
     },
     "execution_count": 2,
     "metadata": {},
     "output_type": "execute_result"
    }
   ],
   "source": [
    "rest.head()"
   ]
  },
  {
   "cell_type": "markdown",
   "id": "af0d5ae2",
   "metadata": {},
   "source": [
    "Restaurant: A unique ID that represents a restaurant.  \n",
    "Location: The location of the restaurant.  \n",
    "Cuisines: The cuisines offered by the restaurant.  \n",
    "Average_Cost: The average cost for one person/order.  \n",
    "Minimum_Order: The minimum order amount.  \n",
    "Rating: Customer rating for the restaurant.  \n",
    "Votes: The total number of customer votes for the restaurant.  \n",
    "Reviews: The number of customer reviews for the restaurant.  \n",
    "Delivery_Time: The order delivery time of the restaurant. (Target Classes)   "
   ]
  },
  {
   "cell_type": "code",
   "execution_count": 3,
   "id": "9e13a6aa",
   "metadata": {},
   "outputs": [
    {
     "name": "stdout",
     "output_type": "stream",
     "text": [
      "<class 'pandas.core.frame.DataFrame'>\n",
      "RangeIndex: 11094 entries, 0 to 11093\n",
      "Data columns (total 9 columns):\n",
      " #   Column        Non-Null Count  Dtype  \n",
      "---  ------        --------------  -----  \n",
      " 0   Restaurant    11094 non-null  object \n",
      " 1   Location      11094 non-null  object \n",
      " 2   Cuisines      11094 non-null  object \n",
      " 3   AverageCost   11094 non-null  object \n",
      " 4   MinimumOrder  11094 non-null  int64  \n",
      " 5   Rating        9903 non-null   object \n",
      " 6   Votes         9020 non-null   float64\n",
      " 7   Reviews       8782 non-null   float64\n",
      " 8   DeliveryTime  11094 non-null  int64  \n",
      "dtypes: float64(2), int64(2), object(5)\n",
      "memory usage: 780.2+ KB\n"
     ]
    }
   ],
   "source": [
    "rest.info()"
   ]
  },
  {
   "cell_type": "markdown",
   "id": "0805d588",
   "metadata": {},
   "source": [
    "- Restaurant, Location, Cuisines : 범주형 데이터  \n",
    "- Rating, AverageCost : 값은 숫자인데 object타입으로 되어있다.\n",
    "- DeliveryTime에 결측치(NaN)는 없다."
   ]
  },
  {
   "cell_type": "code",
   "execution_count": 4,
   "id": "aaf42c91",
   "metadata": {},
   "outputs": [
    {
     "data": {
      "text/plain": [
       "3.7                   869\n",
       "3.6                   846\n",
       "3.5                   818\n",
       "3.8                   800\n",
       "NEW                   758\n",
       "3.9                   749\n",
       "3.4                   718\n",
       "3.3                   675\n",
       "4.0                   614\n",
       "3.2                   511\n",
       "4.1                   459\n",
       "3.1                   411\n",
       "3.0                   302\n",
       "4.2                   272\n",
       "4.3                   247\n",
       "2.9                   199\n",
       "2.8                   157\n",
       "4.4                   142\n",
       "4.5                    78\n",
       "2.7                    76\n",
       "2.6                    42\n",
       "4.6                    41\n",
       "4.7                    36\n",
       "2.5                    27\n",
       "4.8                    13\n",
       "2.4                    13\n",
       "Opening Soon           12\n",
       "4.9                     8\n",
       "2.3                     6\n",
       "Temporarily Closed      2\n",
       "2.2                     1\n",
       "2.1                     1\n",
       "Name: Rating, dtype: int64"
      ]
     },
     "execution_count": 4,
     "metadata": {},
     "output_type": "execute_result"
    }
   ],
   "source": [
    "rest['Rating'].value_counts()"
   ]
  },
  {
   "cell_type": "code",
   "execution_count": 5,
   "id": "e7748b2a",
   "metadata": {},
   "outputs": [
    {
     "data": {
      "text/plain": [
       "200      3241\n",
       "100      2557\n",
       "150      2462\n",
       "250       881\n",
       "300       537\n",
       "350       283\n",
       "400       282\n",
       "50        265\n",
       "600       154\n",
       "500       101\n",
       "450        63\n",
       "550        60\n",
       "650        55\n",
       "800        44\n",
       "750        38\n",
       "900        15\n",
       "700        15\n",
       "1,000      12\n",
       "850        12\n",
       "1,200       8\n",
       "950         4\n",
       "1,100       1\n",
       "1,400       1\n",
       "for         1\n",
       "1,150       1\n",
       "2,050       1\n",
       "Name: AverageCost, dtype: int64"
      ]
     },
     "execution_count": 5,
     "metadata": {},
     "output_type": "execute_result"
    }
   ],
   "source": [
    "rest['AverageCost'].value_counts()"
   ]
  },
  {
   "cell_type": "code",
   "execution_count": 6,
   "id": "8e741512",
   "metadata": {},
   "outputs": [
    {
     "data": {
      "text/html": [
       "<div>\n",
       "<style scoped>\n",
       "    .dataframe tbody tr th:only-of-type {\n",
       "        vertical-align: middle;\n",
       "    }\n",
       "\n",
       "    .dataframe tbody tr th {\n",
       "        vertical-align: top;\n",
       "    }\n",
       "\n",
       "    .dataframe thead th {\n",
       "        text-align: right;\n",
       "    }\n",
       "</style>\n",
       "<table border=\"1\" class=\"dataframe\">\n",
       "  <thead>\n",
       "    <tr style=\"text-align: right;\">\n",
       "      <th></th>\n",
       "      <th>Restaurant</th>\n",
       "      <th>Location</th>\n",
       "      <th>Cuisines</th>\n",
       "      <th>AverageCost</th>\n",
       "      <th>MinimumOrder</th>\n",
       "      <th>Rating</th>\n",
       "      <th>Votes</th>\n",
       "      <th>Reviews</th>\n",
       "      <th>DeliveryTime</th>\n",
       "    </tr>\n",
       "  </thead>\n",
       "  <tbody>\n",
       "    <tr>\n",
       "      <th>7074</th>\n",
       "      <td>ID4922</td>\n",
       "      <td>Mumbai Central</td>\n",
       "      <td>Fast Food, Lebanese</td>\n",
       "      <td>150</td>\n",
       "      <td>50</td>\n",
       "      <td>NaN</td>\n",
       "      <td>NaN</td>\n",
       "      <td>NaN</td>\n",
       "      <td>30</td>\n",
       "    </tr>\n",
       "    <tr>\n",
       "      <th>8399</th>\n",
       "      <td>ID4922</td>\n",
       "      <td>Mumbai Central</td>\n",
       "      <td>Chinese, Fast Food, Rolls</td>\n",
       "      <td>150</td>\n",
       "      <td>50</td>\n",
       "      <td>4.0</td>\n",
       "      <td>168.0</td>\n",
       "      <td>72.0</td>\n",
       "      <td>30</td>\n",
       "    </tr>\n",
       "    <tr>\n",
       "      <th>9903</th>\n",
       "      <td>ID4922</td>\n",
       "      <td>Dockyard Road, Mumbai CST Area</td>\n",
       "      <td>Chinese, Fast Food, Rolls</td>\n",
       "      <td>150</td>\n",
       "      <td>50</td>\n",
       "      <td>4.0</td>\n",
       "      <td>168.0</td>\n",
       "      <td>72.0</td>\n",
       "      <td>30</td>\n",
       "    </tr>\n",
       "    <tr>\n",
       "      <th>10346</th>\n",
       "      <td>ID4922</td>\n",
       "      <td>Mico Layout, Stage 2, BTM Layout,Bangalore</td>\n",
       "      <td>Mughlai, North Indian, Chinese, Momos</td>\n",
       "      <td>200</td>\n",
       "      <td>50</td>\n",
       "      <td>3.3</td>\n",
       "      <td>291.0</td>\n",
       "      <td>56.0</td>\n",
       "      <td>45</td>\n",
       "    </tr>\n",
       "    <tr>\n",
       "      <th>10424</th>\n",
       "      <td>ID4922</td>\n",
       "      <td>Sandhurst Road, Mumbai CST Area</td>\n",
       "      <td>Chinese, Fast Food, Rolls</td>\n",
       "      <td>150</td>\n",
       "      <td>50</td>\n",
       "      <td>4.0</td>\n",
       "      <td>168.0</td>\n",
       "      <td>72.0</td>\n",
       "      <td>30</td>\n",
       "    </tr>\n",
       "  </tbody>\n",
       "</table>\n",
       "</div>"
      ],
      "text/plain": [
       "      Restaurant                                    Location  \\\n",
       "7074      ID4922                              Mumbai Central   \n",
       "8399      ID4922                              Mumbai Central   \n",
       "9903      ID4922              Dockyard Road, Mumbai CST Area   \n",
       "10346     ID4922  Mico Layout, Stage 2, BTM Layout,Bangalore   \n",
       "10424     ID4922             Sandhurst Road, Mumbai CST Area   \n",
       "\n",
       "                                    Cuisines AverageCost  MinimumOrder Rating  \\\n",
       "7074                     Fast Food, Lebanese         150            50    NaN   \n",
       "8399               Chinese, Fast Food, Rolls         150            50    4.0   \n",
       "9903               Chinese, Fast Food, Rolls         150            50    4.0   \n",
       "10346  Mughlai, North Indian, Chinese, Momos         200            50    3.3   \n",
       "10424              Chinese, Fast Food, Rolls         150            50    4.0   \n",
       "\n",
       "       Votes  Reviews  DeliveryTime  \n",
       "7074     NaN      NaN            30  \n",
       "8399   168.0     72.0            30  \n",
       "9903   168.0     72.0            30  \n",
       "10346  291.0     56.0            45  \n",
       "10424  168.0     72.0            30  "
      ]
     },
     "execution_count": 6,
     "metadata": {},
     "output_type": "execute_result"
    }
   ],
   "source": [
    "#rest[rest['Restaurant'].duplicated()]\n",
    "rest[rest['Restaurant'] == 'ID4922']"
   ]
  },
  {
   "cell_type": "markdown",
   "id": "bc3eefc0",
   "metadata": {},
   "source": [
    "Restaurant의 ID가 중복값이 존재한다."
   ]
  },
  {
   "cell_type": "code",
   "execution_count": 7,
   "id": "0a2c4a6c",
   "metadata": {},
   "outputs": [
    {
     "data": {
      "text/html": [
       "<div>\n",
       "<style scoped>\n",
       "    .dataframe tbody tr th:only-of-type {\n",
       "        vertical-align: middle;\n",
       "    }\n",
       "\n",
       "    .dataframe tbody tr th {\n",
       "        vertical-align: top;\n",
       "    }\n",
       "\n",
       "    .dataframe thead th {\n",
       "        text-align: right;\n",
       "    }\n",
       "</style>\n",
       "<table border=\"1\" class=\"dataframe\">\n",
       "  <thead>\n",
       "    <tr style=\"text-align: right;\">\n",
       "      <th></th>\n",
       "      <th>MinimumOrder</th>\n",
       "      <th>Votes</th>\n",
       "      <th>Reviews</th>\n",
       "      <th>DeliveryTime</th>\n",
       "    </tr>\n",
       "  </thead>\n",
       "  <tbody>\n",
       "    <tr>\n",
       "      <th>count</th>\n",
       "      <td>11094.000000</td>\n",
       "      <td>9020.000000</td>\n",
       "      <td>8782.000000</td>\n",
       "      <td>11094.000000</td>\n",
       "    </tr>\n",
       "    <tr>\n",
       "      <th>mean</th>\n",
       "      <td>53.344511</td>\n",
       "      <td>244.544457</td>\n",
       "      <td>123.247893</td>\n",
       "      <td>37.056066</td>\n",
       "    </tr>\n",
       "    <tr>\n",
       "      <th>std</th>\n",
       "      <td>18.551245</td>\n",
       "      <td>555.094733</td>\n",
       "      <td>321.025216</td>\n",
       "      <td>12.447496</td>\n",
       "    </tr>\n",
       "    <tr>\n",
       "      <th>min</th>\n",
       "      <td>0.000000</td>\n",
       "      <td>3.000000</td>\n",
       "      <td>1.000000</td>\n",
       "      <td>10.000000</td>\n",
       "    </tr>\n",
       "    <tr>\n",
       "      <th>25%</th>\n",
       "      <td>50.000000</td>\n",
       "      <td>19.000000</td>\n",
       "      <td>7.000000</td>\n",
       "      <td>30.000000</td>\n",
       "    </tr>\n",
       "    <tr>\n",
       "      <th>50%</th>\n",
       "      <td>50.000000</td>\n",
       "      <td>63.000000</td>\n",
       "      <td>26.000000</td>\n",
       "      <td>30.000000</td>\n",
       "    </tr>\n",
       "    <tr>\n",
       "      <th>75%</th>\n",
       "      <td>50.000000</td>\n",
       "      <td>216.000000</td>\n",
       "      <td>91.000000</td>\n",
       "      <td>45.000000</td>\n",
       "    </tr>\n",
       "    <tr>\n",
       "      <th>max</th>\n",
       "      <td>500.000000</td>\n",
       "      <td>9054.000000</td>\n",
       "      <td>6504.000000</td>\n",
       "      <td>120.000000</td>\n",
       "    </tr>\n",
       "  </tbody>\n",
       "</table>\n",
       "</div>"
      ],
      "text/plain": [
       "       MinimumOrder        Votes      Reviews  DeliveryTime\n",
       "count  11094.000000  9020.000000  8782.000000  11094.000000\n",
       "mean      53.344511   244.544457   123.247893     37.056066\n",
       "std       18.551245   555.094733   321.025216     12.447496\n",
       "min        0.000000     3.000000     1.000000     10.000000\n",
       "25%       50.000000    19.000000     7.000000     30.000000\n",
       "50%       50.000000    63.000000    26.000000     30.000000\n",
       "75%       50.000000   216.000000    91.000000     45.000000\n",
       "max      500.000000  9054.000000  6504.000000    120.000000"
      ]
     },
     "execution_count": 7,
     "metadata": {},
     "output_type": "execute_result"
    }
   ],
   "source": [
    "rest.describe() # 숫자형 데이터 정보"
   ]
  },
  {
   "cell_type": "markdown",
   "id": "2e86fa0b",
   "metadata": {},
   "source": [
    "히스토그램으로 분석해보기"
   ]
  },
  {
   "cell_type": "code",
   "execution_count": 8,
   "id": "a1b9b2a1",
   "metadata": {},
   "outputs": [
    {
     "data": {
      "image/png": "[encoded data removed]",
      "text/plain": [
       "<Figure size 1152x576 with 4 Axes>"
      ]
     },
     "metadata": {
      "needs_background": "light"
     },
     "output_type": "display_data"
    }
   ],
   "source": [
    "%matplotlib inline\n",
    "import matplotlib.pyplot as plt\n",
    "\n",
    "rest.hist(bins=20,figsize=(16,8))\n",
    "plt.show()"
   ]
  },
  {
   "cell_type": "markdown",
   "id": "32e4f650",
   "metadata": {},
   "source": [
    "### 데이터셋 분리하기 (훈련용, 테스트용)"
   ]
  },
  {
   "cell_type": "markdown",
   "id": "2ab53b05",
   "metadata": {},
   "source": [
    "**Scikit-Learn에서 기본적으로 제공되는 데이터분할 함수**"
   ]
  },
  {
   "cell_type": "code",
   "execution_count": 9,
   "id": "7a3a758b",
   "metadata": {},
   "outputs": [
    {
     "data": {
      "text/plain": [
       "(8875, 2219)"
      ]
     },
     "execution_count": 9,
     "metadata": {},
     "output_type": "execute_result"
    }
   ],
   "source": [
    "from sklearn.model_selection import train_test_split\n",
    "\n",
    "train_set, test_set = train_test_split(rest, test_size=0.2, random_state=42)\n",
    "len(train_set), len(test_set)"
   ]
  },
  {
   "cell_type": "markdown",
   "id": "c7f32adc",
   "metadata": {},
   "source": [
    "### 데이터 이해를 위한 탐색과 시각화"
   ]
  },
  {
   "cell_type": "markdown",
   "id": "e2c35065",
   "metadata": {},
   "source": [
    "**상관관계 관찰하기**"
   ]
  },
  {
   "cell_type": "code",
   "execution_count": 10,
   "id": "899a6124",
   "metadata": {},
   "outputs": [],
   "source": [
    "# 데이터 복사본 만들기 (훈련데이터를 손상시키지 않기 위해)\n",
    "rest = train_set.copy()"
   ]
  },
  {
   "cell_type": "code",
   "execution_count": 11,
   "id": "013cbf5c",
   "metadata": {},
   "outputs": [
    {
     "data": {
      "text/plain": [
       "<AxesSubplot:>"
      ]
     },
     "execution_count": 11,
     "metadata": {},
     "output_type": "execute_result"
    },
    {
     "data": {
      "image/png": "[encoded data removed]",
      "text/plain": [
       "<Figure size 432x288 with 2 Axes>"
      ]
     },
     "metadata": {
      "needs_background": "light"
     },
     "output_type": "display_data"
    }
   ],
   "source": [
    "import seaborn as sns\n",
    "\n",
    "corr_matrix = rest.corr()\n",
    "sns.heatmap(corr_matrix)"
   ]
  },
  {
   "cell_type": "code",
   "execution_count": 12,
   "id": "38e65953",
   "metadata": {},
   "outputs": [
    {
     "data": {
      "text/plain": [
       "DeliveryTime    1.000000\n",
       "MinimumOrder    0.257467\n",
       "Votes           0.211054\n",
       "Reviews         0.185067\n",
       "Name: DeliveryTime, dtype: float64"
      ]
     },
     "execution_count": 12,
     "metadata": {},
     "output_type": "execute_result"
    }
   ],
   "source": [
    "corr_matrix['DeliveryTime'].sort_values(ascending=False)"
   ]
  },
  {
   "cell_type": "markdown",
   "id": "d68b5a99",
   "metadata": {},
   "source": [
    "#### AverageCost, Rating 수치형으로 변환하기\n",
    "문자열이 들어가있는 값에는 NaN 반환"
   ]
  },
  {
   "cell_type": "code",
   "execution_count": 13,
   "id": "8e3e551c",
   "metadata": {},
   "outputs": [],
   "source": [
    "rest['Rating'] = rest['Rating'].apply(pd.to_numeric, errors = 'coerce')\n",
    "rest['AverageCost'] =  rest['AverageCost'].apply(pd.to_numeric, errors = 'coerce')"
   ]
  },
  {
   "cell_type": "code",
   "execution_count": 14,
   "id": "fef2bc76",
   "metadata": {},
   "outputs": [
    {
     "data": {
      "text/plain": [
       "<AxesSubplot:>"
      ]
     },
     "execution_count": 14,
     "metadata": {},
     "output_type": "execute_result"
    },
    {
     "data": {
      "image/png": "[encoded data removed]",
      "text/plain": [
       "<Figure size 432x288 with 2 Axes>"
      ]
     },
     "metadata": {
      "needs_background": "light"
     },
     "output_type": "display_data"
    }
   ],
   "source": [
    "corr_matrix = rest.corr()\n",
    "sns.heatmap(corr_matrix)"
   ]
  },
  {
   "cell_type": "code",
   "execution_count": 15,
   "id": "828be7b6",
   "metadata": {},
   "outputs": [
    {
     "data": {
      "image/png": "[encoded data removed]",
      "text/plain": [
       "<Figure size 1152x720 with 36 Axes>"
      ]
     },
     "metadata": {
      "needs_background": "light"
     },
     "output_type": "display_data"
    }
   ],
   "source": [
    "# scatter_matrix 사용해서 상관관계 확인하기\n",
    "\n",
    "from pandas.plotting import scatter_matrix\n",
    "\n",
    "scatter_matrix(rest, figsize=(16, 10))\n",
    "plt.show()"
   ]
  },
  {
   "cell_type": "markdown",
   "id": "be6448de",
   "metadata": {},
   "source": [
    "위에서 관찰할 수 있는 사실들?  \n",
    "- Reviews, Votes는 양의 상관관계  \n",
    "-  DeliveryTiem의 다른 Feature과의 분포에서 가로 선들이 많이 보인다.$\\rightarrow$ 배달의 대략적인 시간들을 구간으로 뭉쳐놨다  \n",
    "수치형 데이터들과의 명확한 상관관계는 찾기 어렵다."
   ]
  },
  {
   "cell_type": "code",
   "execution_count": 16,
   "id": "b7b4b4b1",
   "metadata": {},
   "outputs": [
    {
     "data": {
      "text/plain": [
       "30     5894\n",
       "45     2152\n",
       "65      741\n",
       "120      52\n",
       "20       19\n",
       "80       14\n",
       "10        3\n",
       "Name: DeliveryTime, dtype: int64"
      ]
     },
     "execution_count": 16,
     "metadata": {},
     "output_type": "execute_result"
    }
   ],
   "source": [
    "rest['DeliveryTime'].value_counts()"
   ]
  },
  {
   "cell_type": "markdown",
   "id": "508a9b6b",
   "metadata": {},
   "source": [
    "------"
   ]
  },
  {
   "cell_type": "markdown",
   "id": "5854c36f",
   "metadata": {},
   "source": [
    "## 4. 머신러닝 알고리즘을 위해 데이터를 준비"
   ]
  },
  {
   "cell_type": "markdown",
   "id": "d7a0c4b1",
   "metadata": {},
   "source": [
    "#### 학습을 위해 라벨링 칼럼 제외하기"
   ]
  },
  {
   "cell_type": "code",
   "execution_count": 17,
   "id": "1a78692e",
   "metadata": {},
   "outputs": [
    {
     "data": {
      "text/plain": [
       "Index(['Restaurant', 'Location', 'Cuisines', 'AverageCost', 'MinimumOrder',\n",
       "       'Rating', 'Votes', 'Reviews'],\n",
       "      dtype='object')"
      ]
     },
     "execution_count": 17,
     "metadata": {},
     "output_type": "execute_result"
    }
   ],
   "source": [
    "rest = train_set.drop(\"DeliveryTime\", axis=1) # 학습을 위한 배달시간을 제외한 데이터셋\n",
    "rest_labels = train_set[\"DeliveryTime\"].copy() # 배달시간 \n",
    "rest.columns"
   ]
  },
  {
   "cell_type": "markdown",
   "id": "3d7f52bd",
   "metadata": {},
   "source": [
    "### 칼럼 자료형 변환"
   ]
  },
  {
   "cell_type": "code",
   "execution_count": 18,
   "id": "733919c2",
   "metadata": {},
   "outputs": [
    {
     "name": "stdout",
     "output_type": "stream",
     "text": [
      "<class 'pandas.core.frame.DataFrame'>\n",
      "Int64Index: 8875 entries, 11025 to 7270\n",
      "Data columns (total 8 columns):\n",
      " #   Column        Non-Null Count  Dtype  \n",
      "---  ------        --------------  -----  \n",
      " 0   Restaurant    8875 non-null   object \n",
      " 1   Location      8875 non-null   object \n",
      " 2   Cuisines      8875 non-null   object \n",
      " 3   AverageCost   8851 non-null   float64\n",
      " 4   MinimumOrder  8875 non-null   int64  \n",
      " 5   Rating        7326 non-null   float64\n",
      " 6   Votes         7237 non-null   float64\n",
      " 7   Reviews       7051 non-null   float64\n",
      "dtypes: float64(4), int64(1), object(3)\n",
      "memory usage: 624.0+ KB\n"
     ]
    }
   ],
   "source": [
    "# Rating 수치형 데이터로 변환\n",
    "rest['Rating'] = rest['Rating'].apply(pd.to_numeric, errors = 'coerce')\n",
    "# AverageCost 수치형 데이터로 변환\n",
    "rest['AverageCost'] =  rest['AverageCost'].apply(pd.to_numeric, errors = 'coerce')\n",
    "rest.info()"
   ]
  },
  {
   "cell_type": "markdown",
   "id": "18049d3e",
   "metadata": {},
   "source": [
    "### 데이터 정제(Data Cleaning)"
   ]
  },
  {
   "cell_type": "markdown",
   "id": "b38c09bb",
   "metadata": {},
   "source": [
    "수치형 데이터의 누락된 값(missing value, 결측값, NaN)을 중간값으로 채움"
   ]
  },
  {
   "cell_type": "code",
   "execution_count": 19,
   "id": "d9bee542",
   "metadata": {},
   "outputs": [
    {
     "data": {
      "text/plain": [
       "11025    False\n",
       "1684     False\n",
       "499      False\n",
       "5770     False\n",
       "8290      True\n",
       "         ...  \n",
       "5734     False\n",
       "5191     False\n",
       "5390     False\n",
       "860      False\n",
       "7270     False\n",
       "Length: 8875, dtype: bool"
      ]
     },
     "execution_count": 19,
     "metadata": {},
     "output_type": "execute_result"
    }
   ],
   "source": [
    "rest.isnull().any(axis=1)"
   ]
  },
  {
   "cell_type": "code",
   "execution_count": 20,
   "id": "db3effe5",
   "metadata": {},
   "outputs": [
    {
     "data": {
      "text/plain": [
       "(1847, 8)"
      ]
     },
     "execution_count": 20,
     "metadata": {},
     "output_type": "execute_result"
    }
   ],
   "source": [
    "sample_incomplete_rows = rest[rest.isnull().any(axis=1)] # 결측치가 있는 값는 모든 행들\n",
    "sample_incomplete_rows.shape"
   ]
  },
  {
   "cell_type": "code",
   "execution_count": 21,
   "id": "004c0c3e",
   "metadata": {},
   "outputs": [
    {
     "data": {
      "text/html": [
       "<div>\n",
       "<style scoped>\n",
       "    .dataframe tbody tr th:only-of-type {\n",
       "        vertical-align: middle;\n",
       "    }\n",
       "\n",
       "    .dataframe tbody tr th {\n",
       "        vertical-align: top;\n",
       "    }\n",
       "\n",
       "    .dataframe thead th {\n",
       "        text-align: right;\n",
       "    }\n",
       "</style>\n",
       "<table border=\"1\" class=\"dataframe\">\n",
       "  <thead>\n",
       "    <tr style=\"text-align: right;\">\n",
       "      <th></th>\n",
       "      <th>AverageCost</th>\n",
       "      <th>MinimumOrder</th>\n",
       "      <th>Rating</th>\n",
       "      <th>Votes</th>\n",
       "      <th>Reviews</th>\n",
       "    </tr>\n",
       "  </thead>\n",
       "  <tbody>\n",
       "    <tr>\n",
       "      <th>11025</th>\n",
       "      <td>350.0</td>\n",
       "      <td>50</td>\n",
       "      <td>3.8</td>\n",
       "      <td>160.0</td>\n",
       "      <td>73.0</td>\n",
       "    </tr>\n",
       "    <tr>\n",
       "      <th>1684</th>\n",
       "      <td>600.0</td>\n",
       "      <td>50</td>\n",
       "      <td>4.0</td>\n",
       "      <td>646.0</td>\n",
       "      <td>370.0</td>\n",
       "    </tr>\n",
       "    <tr>\n",
       "      <th>499</th>\n",
       "      <td>200.0</td>\n",
       "      <td>50</td>\n",
       "      <td>3.1</td>\n",
       "      <td>41.0</td>\n",
       "      <td>25.0</td>\n",
       "    </tr>\n",
       "    <tr>\n",
       "      <th>5770</th>\n",
       "      <td>100.0</td>\n",
       "      <td>50</td>\n",
       "      <td>4.0</td>\n",
       "      <td>231.0</td>\n",
       "      <td>123.0</td>\n",
       "    </tr>\n",
       "    <tr>\n",
       "      <th>8290</th>\n",
       "      <td>150.0</td>\n",
       "      <td>50</td>\n",
       "      <td>NaN</td>\n",
       "      <td>NaN</td>\n",
       "      <td>NaN</td>\n",
       "    </tr>\n",
       "  </tbody>\n",
       "</table>\n",
       "</div>"
      ],
      "text/plain": [
       "       AverageCost  MinimumOrder  Rating  Votes  Reviews\n",
       "11025        350.0            50     3.8  160.0     73.0\n",
       "1684         600.0            50     4.0  646.0    370.0\n",
       "499          200.0            50     3.1   41.0     25.0\n",
       "5770         100.0            50     4.0  231.0    123.0\n",
       "8290         150.0            50     NaN    NaN      NaN"
      ]
     },
     "execution_count": 21,
     "metadata": {},
     "output_type": "execute_result"
    }
   ],
   "source": [
    "from sklearn.impute import SimpleImputer\n",
    "imputer = SimpleImputer(strategy=\"median\")\n",
    "\n",
    "# 중간값은 수치형 특성에서만 계산될 수 있기 때문에 텍스트 특성을 제외한 복사본을 생성\n",
    "obj=[\"Restaurant\", \"Location\", \"Cuisines\"]\n",
    "rest_num = rest.drop(obj, axis=1)\n",
    "rest_num.head()"
   ]
  },
  {
   "cell_type": "code",
   "execution_count": 22,
   "id": "aba73f1e",
   "metadata": {},
   "outputs": [
    {
     "data": {
      "text/plain": [
       "SimpleImputer(strategy='median')"
      ]
     },
     "execution_count": 22,
     "metadata": {},
     "output_type": "execute_result"
    }
   ],
   "source": [
    "imputer.fit(rest_num)"
   ]
  },
  {
   "cell_type": "code",
   "execution_count": 23,
   "id": "ca3c852e",
   "metadata": {},
   "outputs": [
    {
     "data": {
      "text/plain": [
       "array([200. ,  50. ,   3.6,  63. ,  26. ])"
      ]
     },
     "execution_count": 23,
     "metadata": {},
     "output_type": "execute_result"
    }
   ],
   "source": [
    "imputer.statistics_ # 객체를 이용한 각각의 수치형 열의 중간값들 "
   ]
  },
  {
   "cell_type": "code",
   "execution_count": 24,
   "id": "ea74ec4d",
   "metadata": {},
   "outputs": [
    {
     "data": {
      "text/plain": [
       "array([[350. ,  50. ,   3.8, 160. ,  73. ],\n",
       "       [600. ,  50. ,   4. , 646. , 370. ],\n",
       "       [200. ,  50. ,   3.1,  41. ,  25. ],\n",
       "       ...,\n",
       "       [200. ,  50. ,   3.1,   5. ,   3. ],\n",
       "       [200. ,  50. ,   3.4,   9. ,   2. ],\n",
       "       [350. ,  50. ,   4. , 105. ,  71. ]])"
      ]
     },
     "execution_count": 24,
     "metadata": {},
     "output_type": "execute_result"
    }
   ],
   "source": [
    "X = imputer.transform(rest_num) # 누락값 -> 중간값, transform할 경우 df -> np.array로 변환되어 리턴된다\n",
    "X"
   ]
  },
  {
   "cell_type": "code",
   "execution_count": 25,
   "id": "41ff943d",
   "metadata": {},
   "outputs": [
    {
     "data": {
      "text/html": [
       "<div>\n",
       "<style scoped>\n",
       "    .dataframe tbody tr th:only-of-type {\n",
       "        vertical-align: middle;\n",
       "    }\n",
       "\n",
       "    .dataframe tbody tr th {\n",
       "        vertical-align: top;\n",
       "    }\n",
       "\n",
       "    .dataframe thead th {\n",
       "        text-align: right;\n",
       "    }\n",
       "</style>\n",
       "<table border=\"1\" class=\"dataframe\">\n",
       "  <thead>\n",
       "    <tr style=\"text-align: right;\">\n",
       "      <th></th>\n",
       "      <th>AverageCost</th>\n",
       "      <th>MinimumOrder</th>\n",
       "      <th>Rating</th>\n",
       "      <th>Votes</th>\n",
       "      <th>Reviews</th>\n",
       "    </tr>\n",
       "  </thead>\n",
       "  <tbody>\n",
       "  </tbody>\n",
       "</table>\n",
       "</div>"
      ],
      "text/plain": [
       "Empty DataFrame\n",
       "Columns: [AverageCost, MinimumOrder, Rating, Votes, Reviews]\n",
       "Index: []"
      ]
     },
     "execution_count": 25,
     "metadata": {},
     "output_type": "execute_result"
    }
   ],
   "source": [
    "# NumPy array -> pandas DataFrame 변환\n",
    "rest_tr = pd.DataFrame(X, columns=rest_num.columns,\n",
    "                          index=rest.index)\n",
    "\n",
    "rest_tr[rest_tr.isnull().any(axis=1)].head() # NaN값 있는지 확인"
   ]
  },
  {
   "cell_type": "code",
   "execution_count": 26,
   "id": "80098961",
   "metadata": {},
   "outputs": [
    {
     "data": {
      "text/plain": [
       "array([ 8290, 10394,  2406, ...,  1184,  5051,  5311])"
      ]
     },
     "execution_count": 26,
     "metadata": {},
     "output_type": "execute_result"
    }
   ],
   "source": [
    "sample_incomplete_rows.index.values"
   ]
  },
  {
   "cell_type": "code",
   "execution_count": 27,
   "id": "99932523",
   "metadata": {},
   "outputs": [
    {
     "data": {
      "text/html": [
       "<div>\n",
       "<style scoped>\n",
       "    .dataframe tbody tr th:only-of-type {\n",
       "        vertical-align: middle;\n",
       "    }\n",
       "\n",
       "    .dataframe tbody tr th {\n",
       "        vertical-align: top;\n",
       "    }\n",
       "\n",
       "    .dataframe thead th {\n",
       "        text-align: right;\n",
       "    }\n",
       "</style>\n",
       "<table border=\"1\" class=\"dataframe\">\n",
       "  <thead>\n",
       "    <tr style=\"text-align: right;\">\n",
       "      <th></th>\n",
       "      <th>AverageCost</th>\n",
       "      <th>MinimumOrder</th>\n",
       "      <th>Rating</th>\n",
       "      <th>Votes</th>\n",
       "      <th>Reviews</th>\n",
       "    </tr>\n",
       "  </thead>\n",
       "  <tbody>\n",
       "    <tr>\n",
       "      <th>8290</th>\n",
       "      <td>150.0</td>\n",
       "      <td>50</td>\n",
       "      <td>NaN</td>\n",
       "      <td>NaN</td>\n",
       "      <td>NaN</td>\n",
       "    </tr>\n",
       "    <tr>\n",
       "      <th>10394</th>\n",
       "      <td>200.0</td>\n",
       "      <td>50</td>\n",
       "      <td>NaN</td>\n",
       "      <td>NaN</td>\n",
       "      <td>NaN</td>\n",
       "    </tr>\n",
       "    <tr>\n",
       "      <th>2406</th>\n",
       "      <td>200.0</td>\n",
       "      <td>50</td>\n",
       "      <td>3.0</td>\n",
       "      <td>4.0</td>\n",
       "      <td>NaN</td>\n",
       "    </tr>\n",
       "    <tr>\n",
       "      <th>9783</th>\n",
       "      <td>150.0</td>\n",
       "      <td>50</td>\n",
       "      <td>NaN</td>\n",
       "      <td>NaN</td>\n",
       "      <td>NaN</td>\n",
       "    </tr>\n",
       "    <tr>\n",
       "      <th>480</th>\n",
       "      <td>100.0</td>\n",
       "      <td>50</td>\n",
       "      <td>NaN</td>\n",
       "      <td>NaN</td>\n",
       "      <td>NaN</td>\n",
       "    </tr>\n",
       "    <tr>\n",
       "      <th>...</th>\n",
       "      <td>...</td>\n",
       "      <td>...</td>\n",
       "      <td>...</td>\n",
       "      <td>...</td>\n",
       "      <td>...</td>\n",
       "    </tr>\n",
       "    <tr>\n",
       "      <th>1528</th>\n",
       "      <td>150.0</td>\n",
       "      <td>50</td>\n",
       "      <td>NaN</td>\n",
       "      <td>NaN</td>\n",
       "      <td>NaN</td>\n",
       "    </tr>\n",
       "    <tr>\n",
       "      <th>8666</th>\n",
       "      <td>200.0</td>\n",
       "      <td>50</td>\n",
       "      <td>NaN</td>\n",
       "      <td>NaN</td>\n",
       "      <td>NaN</td>\n",
       "    </tr>\n",
       "    <tr>\n",
       "      <th>1184</th>\n",
       "      <td>50.0</td>\n",
       "      <td>50</td>\n",
       "      <td>NaN</td>\n",
       "      <td>NaN</td>\n",
       "      <td>NaN</td>\n",
       "    </tr>\n",
       "    <tr>\n",
       "      <th>5051</th>\n",
       "      <td>100.0</td>\n",
       "      <td>50</td>\n",
       "      <td>NaN</td>\n",
       "      <td>NaN</td>\n",
       "      <td>NaN</td>\n",
       "    </tr>\n",
       "    <tr>\n",
       "      <th>5311</th>\n",
       "      <td>200.0</td>\n",
       "      <td>50</td>\n",
       "      <td>NaN</td>\n",
       "      <td>NaN</td>\n",
       "      <td>NaN</td>\n",
       "    </tr>\n",
       "  </tbody>\n",
       "</table>\n",
       "<p>1847 rows × 5 columns</p>\n",
       "</div>"
      ],
      "text/plain": [
       "       AverageCost  MinimumOrder  Rating  Votes  Reviews\n",
       "8290         150.0            50     NaN    NaN      NaN\n",
       "10394        200.0            50     NaN    NaN      NaN\n",
       "2406         200.0            50     3.0    4.0      NaN\n",
       "9783         150.0            50     NaN    NaN      NaN\n",
       "480          100.0            50     NaN    NaN      NaN\n",
       "...            ...           ...     ...    ...      ...\n",
       "1528         150.0            50     NaN    NaN      NaN\n",
       "8666         200.0            50     NaN    NaN      NaN\n",
       "1184          50.0            50     NaN    NaN      NaN\n",
       "5051         100.0            50     NaN    NaN      NaN\n",
       "5311         200.0            50     NaN    NaN      NaN\n",
       "\n",
       "[1847 rows x 5 columns]"
      ]
     },
     "execution_count": 27,
     "metadata": {},
     "output_type": "execute_result"
    }
   ],
   "source": [
    "rest_num.loc[sample_incomplete_rows.index.values]  # 결측치 transform 전"
   ]
  },
  {
   "cell_type": "code",
   "execution_count": 28,
   "id": "3f0be413",
   "metadata": {},
   "outputs": [
    {
     "data": {
      "text/html": [
       "<div>\n",
       "<style scoped>\n",
       "    .dataframe tbody tr th:only-of-type {\n",
       "        vertical-align: middle;\n",
       "    }\n",
       "\n",
       "    .dataframe tbody tr th {\n",
       "        vertical-align: top;\n",
       "    }\n",
       "\n",
       "    .dataframe thead th {\n",
       "        text-align: right;\n",
       "    }\n",
       "</style>\n",
       "<table border=\"1\" class=\"dataframe\">\n",
       "  <thead>\n",
       "    <tr style=\"text-align: right;\">\n",
       "      <th></th>\n",
       "      <th>AverageCost</th>\n",
       "      <th>MinimumOrder</th>\n",
       "      <th>Rating</th>\n",
       "      <th>Votes</th>\n",
       "      <th>Reviews</th>\n",
       "    </tr>\n",
       "  </thead>\n",
       "  <tbody>\n",
       "    <tr>\n",
       "      <th>8290</th>\n",
       "      <td>150.0</td>\n",
       "      <td>50.0</td>\n",
       "      <td>3.6</td>\n",
       "      <td>63.0</td>\n",
       "      <td>26.0</td>\n",
       "    </tr>\n",
       "    <tr>\n",
       "      <th>10394</th>\n",
       "      <td>200.0</td>\n",
       "      <td>50.0</td>\n",
       "      <td>3.6</td>\n",
       "      <td>63.0</td>\n",
       "      <td>26.0</td>\n",
       "    </tr>\n",
       "    <tr>\n",
       "      <th>2406</th>\n",
       "      <td>200.0</td>\n",
       "      <td>50.0</td>\n",
       "      <td>3.0</td>\n",
       "      <td>4.0</td>\n",
       "      <td>26.0</td>\n",
       "    </tr>\n",
       "    <tr>\n",
       "      <th>9783</th>\n",
       "      <td>150.0</td>\n",
       "      <td>50.0</td>\n",
       "      <td>3.6</td>\n",
       "      <td>63.0</td>\n",
       "      <td>26.0</td>\n",
       "    </tr>\n",
       "    <tr>\n",
       "      <th>480</th>\n",
       "      <td>100.0</td>\n",
       "      <td>50.0</td>\n",
       "      <td>3.6</td>\n",
       "      <td>63.0</td>\n",
       "      <td>26.0</td>\n",
       "    </tr>\n",
       "    <tr>\n",
       "      <th>...</th>\n",
       "      <td>...</td>\n",
       "      <td>...</td>\n",
       "      <td>...</td>\n",
       "      <td>...</td>\n",
       "      <td>...</td>\n",
       "    </tr>\n",
       "    <tr>\n",
       "      <th>1528</th>\n",
       "      <td>150.0</td>\n",
       "      <td>50.0</td>\n",
       "      <td>3.6</td>\n",
       "      <td>63.0</td>\n",
       "      <td>26.0</td>\n",
       "    </tr>\n",
       "    <tr>\n",
       "      <th>8666</th>\n",
       "      <td>200.0</td>\n",
       "      <td>50.0</td>\n",
       "      <td>3.6</td>\n",
       "      <td>63.0</td>\n",
       "      <td>26.0</td>\n",
       "    </tr>\n",
       "    <tr>\n",
       "      <th>1184</th>\n",
       "      <td>50.0</td>\n",
       "      <td>50.0</td>\n",
       "      <td>3.6</td>\n",
       "      <td>63.0</td>\n",
       "      <td>26.0</td>\n",
       "    </tr>\n",
       "    <tr>\n",
       "      <th>5051</th>\n",
       "      <td>100.0</td>\n",
       "      <td>50.0</td>\n",
       "      <td>3.6</td>\n",
       "      <td>63.0</td>\n",
       "      <td>26.0</td>\n",
       "    </tr>\n",
       "    <tr>\n",
       "      <th>5311</th>\n",
       "      <td>200.0</td>\n",
       "      <td>50.0</td>\n",
       "      <td>3.6</td>\n",
       "      <td>63.0</td>\n",
       "      <td>26.0</td>\n",
       "    </tr>\n",
       "  </tbody>\n",
       "</table>\n",
       "<p>1847 rows × 5 columns</p>\n",
       "</div>"
      ],
      "text/plain": [
       "       AverageCost  MinimumOrder  Rating  Votes  Reviews\n",
       "8290         150.0          50.0     3.6   63.0     26.0\n",
       "10394        200.0          50.0     3.6   63.0     26.0\n",
       "2406         200.0          50.0     3.0    4.0     26.0\n",
       "9783         150.0          50.0     3.6   63.0     26.0\n",
       "480          100.0          50.0     3.6   63.0     26.0\n",
       "...            ...           ...     ...    ...      ...\n",
       "1528         150.0          50.0     3.6   63.0     26.0\n",
       "8666         200.0          50.0     3.6   63.0     26.0\n",
       "1184          50.0          50.0     3.6   63.0     26.0\n",
       "5051         100.0          50.0     3.6   63.0     26.0\n",
       "5311         200.0          50.0     3.6   63.0     26.0\n",
       "\n",
       "[1847 rows x 5 columns]"
      ]
     },
     "execution_count": 28,
     "metadata": {},
     "output_type": "execute_result"
    }
   ],
   "source": [
    "rest_tr.loc[sample_incomplete_rows.index.values]  # 결측치 transform 후"
   ]
  },
  {
   "cell_type": "markdown",
   "id": "761ea138",
   "metadata": {},
   "source": [
    "### 텍스트와 범주형 특성 다루기"
   ]
  },
  {
   "cell_type": "code",
   "execution_count": 29,
   "id": "7a7c58b6",
   "metadata": {},
   "outputs": [
    {
     "data": {
      "text/html": [
       "<div>\n",
       "<style scoped>\n",
       "    .dataframe tbody tr th:only-of-type {\n",
       "        vertical-align: middle;\n",
       "    }\n",
       "\n",
       "    .dataframe tbody tr th {\n",
       "        vertical-align: top;\n",
       "    }\n",
       "\n",
       "    .dataframe thead th {\n",
       "        text-align: right;\n",
       "    }\n",
       "</style>\n",
       "<table border=\"1\" class=\"dataframe\">\n",
       "  <thead>\n",
       "    <tr style=\"text-align: right;\">\n",
       "      <th></th>\n",
       "      <th>Restaurant</th>\n",
       "      <th>Location</th>\n",
       "      <th>Cuisines</th>\n",
       "    </tr>\n",
       "  </thead>\n",
       "  <tbody>\n",
       "    <tr>\n",
       "      <th>11025</th>\n",
       "      <td>ID304</td>\n",
       "      <td>Rmz Centennial, I Gate, Whitefield</td>\n",
       "      <td>North Indian, Andhra, BBQ, Seafood, Chinese</td>\n",
       "    </tr>\n",
       "    <tr>\n",
       "      <th>1684</th>\n",
       "      <td>ID4157</td>\n",
       "      <td>FTI College, Law College Road, Pune</td>\n",
       "      <td>European, Italian, Continental, Salad, Beverages</td>\n",
       "    </tr>\n",
       "    <tr>\n",
       "      <th>499</th>\n",
       "      <td>ID2772</td>\n",
       "      <td>Sector 63A,Gurgaon</td>\n",
       "      <td>Chinese, Continental, Italian, Healthy Food, A...</td>\n",
       "    </tr>\n",
       "    <tr>\n",
       "      <th>5770</th>\n",
       "      <td>ID1834</td>\n",
       "      <td>FTI College, Law College Road, Pune</td>\n",
       "      <td>Bakery, Cafe, Desserts</td>\n",
       "    </tr>\n",
       "    <tr>\n",
       "      <th>8290</th>\n",
       "      <td>ID3496</td>\n",
       "      <td>Mico Layout, Stage 2, BTM Layout,Bangalore</td>\n",
       "      <td>Chinese, North Indian</td>\n",
       "    </tr>\n",
       "    <tr>\n",
       "      <th>1877</th>\n",
       "      <td>ID5679</td>\n",
       "      <td>Mumbai Central</td>\n",
       "      <td>Beverages, Fast Food</td>\n",
       "    </tr>\n",
       "    <tr>\n",
       "      <th>3027</th>\n",
       "      <td>ID4895</td>\n",
       "      <td>Yerawada, Pune, Maharashtra</td>\n",
       "      <td>Fast Food</td>\n",
       "    </tr>\n",
       "    <tr>\n",
       "      <th>513</th>\n",
       "      <td>ID3871</td>\n",
       "      <td>Delhi UniversityGTB Nagar</td>\n",
       "      <td>North Indian</td>\n",
       "    </tr>\n",
       "    <tr>\n",
       "      <th>6498</th>\n",
       "      <td>ID2372</td>\n",
       "      <td>FTI College, Law College Road, Pune</td>\n",
       "      <td>North Indian, Chinese, Fast Food, Mughlai</td>\n",
       "    </tr>\n",
       "    <tr>\n",
       "      <th>9063</th>\n",
       "      <td>ID6650</td>\n",
       "      <td>Rmz Centennial, I Gate, Whitefield</td>\n",
       "      <td>Chinese</td>\n",
       "    </tr>\n",
       "  </tbody>\n",
       "</table>\n",
       "</div>"
      ],
      "text/plain": [
       "      Restaurant                                    Location  \\\n",
       "11025      ID304          Rmz Centennial, I Gate, Whitefield   \n",
       "1684      ID4157         FTI College, Law College Road, Pune   \n",
       "499       ID2772                          Sector 63A,Gurgaon   \n",
       "5770      ID1834         FTI College, Law College Road, Pune   \n",
       "8290      ID3496  Mico Layout, Stage 2, BTM Layout,Bangalore   \n",
       "1877      ID5679                              Mumbai Central   \n",
       "3027      ID4895                 Yerawada, Pune, Maharashtra   \n",
       "513       ID3871                   Delhi UniversityGTB Nagar   \n",
       "6498      ID2372         FTI College, Law College Road, Pune   \n",
       "9063      ID6650          Rmz Centennial, I Gate, Whitefield   \n",
       "\n",
       "                                                Cuisines  \n",
       "11025        North Indian, Andhra, BBQ, Seafood, Chinese  \n",
       "1684    European, Italian, Continental, Salad, Beverages  \n",
       "499    Chinese, Continental, Italian, Healthy Food, A...  \n",
       "5770                              Bakery, Cafe, Desserts  \n",
       "8290                               Chinese, North Indian  \n",
       "1877                                Beverages, Fast Food  \n",
       "3027                                           Fast Food  \n",
       "513                                         North Indian  \n",
       "6498           North Indian, Chinese, Fast Food, Mughlai  \n",
       "9063                                             Chinese  "
      ]
     },
     "execution_count": 29,
     "metadata": {},
     "output_type": "execute_result"
    }
   ],
   "source": [
    "obj=[\"Restaurant\", \"Location\", \"Cuisines\"]\n",
    "#obj=[\"Location\"]\n",
    "rest_cat = rest[obj]\n",
    "rest_cat.head(10)"
   ]
  },
  {
   "cell_type": "markdown",
   "id": "bc2a2329",
   "metadata": {},
   "source": [
    "#### One-hot encoding"
   ]
  },
  {
   "cell_type": "code",
   "execution_count": 30,
   "id": "a7ca53a4",
   "metadata": {},
   "outputs": [
    {
     "data": {
      "text/plain": [
       "array([[0., 0., 0., ..., 0., 0., 0.],\n",
       "       [0., 0., 0., ..., 0., 0., 0.],\n",
       "       [0., 0., 0., ..., 0., 0., 0.],\n",
       "       ...,\n",
       "       [0., 0., 0., ..., 0., 0., 0.],\n",
       "       [0., 0., 0., ..., 0., 0., 0.],\n",
       "       [0., 0., 0., ..., 0., 0., 0.]])"
      ]
     },
     "execution_count": 30,
     "metadata": {},
     "output_type": "execute_result"
    }
   ],
   "source": [
    "from sklearn.preprocessing import OneHotEncoder\n",
    "\n",
    "cat_encoder = OneHotEncoder(sparse=False) # sparse = False 값주면 toarray()로 변환하자 않아도 됨\n",
    "rest_cat_1hot = cat_encoder.fit_transform(rest_cat)\n",
    "rest_cat_1hot"
   ]
  },
  {
   "cell_type": "code",
   "execution_count": 31,
   "id": "70afc944",
   "metadata": {},
   "outputs": [
    {
     "data": {
      "text/plain": [
       "[array(['ID0', 'ID100', 'ID1000', ..., 'ID997', 'ID998', 'ID999'],\n",
       "       dtype=object),\n",
       " array(['BTM Layout 1, Electronic City', 'Babarpur, New Delhi, Delhi',\n",
       "        'Chandni Chowk, Kolkata', 'Chatta Bazaar, Malakpet, Hyderabad',\n",
       "        'DBlock, Sector 63, Noida', 'Delhi Administration Flats, Timarpur',\n",
       "        'Delhi Cantt.', 'Delhi High Court, India Gate',\n",
       "        'Delhi UniversityGTB Nagar', 'Dockyard Road, Mumbai CST Area',\n",
       "        'FTI College, Law College Road, Pune',\n",
       "        'Gora Bazar, Rajbari, North Dumdum, Kolkata',\n",
       "        'Hyderabad Public School, Begumpet',\n",
       "        'Jaya Nagar, Saidabad, Hyderabad',\n",
       "        'Laxman Vihar Industrial Area, Sector 3A, Gurgoan',\n",
       "        'MG Road, Pune', 'Majestic',\n",
       "        'Mico Layout, Stage 2, BTM Layout,Bangalore', 'Moulali, Kolkata',\n",
       "        'Mumbai Central', 'Musi Nagar, Malakpet, Hyderabad',\n",
       "        'Nathan Road, Mangaldas Road, Pune',\n",
       "        'Noorkhan Bazaar, Malakpet, Hyderabad',\n",
       "        'Panjetan Colony, Malakpet, Hyderabad', 'Pune University',\n",
       "        'Raja Bazar, Kolkata', 'Rmz Centennial, I Gate, Whitefield',\n",
       "        'Sandhurst Road, Mumbai CST Area', 'Sector 1, Noida',\n",
       "        'Sector 14, Noida', 'Sector 3, Marathalli', 'Sector 63A,Gurgaon',\n",
       "        'Tejas Nagar Colony, Wadala West, Mumbai', 'Tiretti, Kolkata',\n",
       "        'Yerawada, Pune, Maharashtra'], dtype=object),\n",
       " array(['Afghan', 'Afghan, BBQ, Biryani, Seafood',\n",
       "        'African, Burger, Fast Food, Beverages, Desserts', ...,\n",
       "        'Wraps, Fast Food', 'Wraps, Healthy Food, Sandwich, Salad',\n",
       "        'Wraps, Rolls'], dtype=object)]"
      ]
     },
     "execution_count": 31,
     "metadata": {},
     "output_type": "execute_result"
    }
   ],
   "source": [
    "cat_encoder.categories_"
   ]
  },
  {
   "cell_type": "markdown",
   "id": "0a804bbf",
   "metadata": {},
   "source": [
    "### 변환 파이프라인(Transformation Pipelines)"
   ]
  },
  {
   "cell_type": "markdown",
   "id": "264f672d",
   "metadata": {},
   "source": [
    "**수치형 데이터**"
   ]
  },
  {
   "cell_type": "code",
   "execution_count": 32,
   "id": "3938323f",
   "metadata": {},
   "outputs": [
    {
     "data": {
      "text/plain": [
       "array([[ 1.23777301e+00, -1.81559238e-01,  5.00599677e-01,\n",
       "        -1.01197116e-01, -1.06483115e-01],\n",
       "       [ 3.30336579e+00, -1.81559238e-01,  1.03203773e+00,\n",
       "         8.77744345e-01,  9.50211980e-01],\n",
       "       [-1.58265136e-03, -1.81559238e-01, -1.35943351e+00,\n",
       "        -3.40896774e-01, -2.77262120e-01],\n",
       "       ...,\n",
       "       [-1.58265136e-03, -1.81559238e-01, -1.35943351e+00,\n",
       "        -4.13410956e-01, -3.55535831e-01],\n",
       "       [-1.58265136e-03, -1.81559238e-01, -5.62276432e-01,\n",
       "        -4.05353825e-01, -3.59093727e-01],\n",
       "       [ 1.23777301e+00, -1.81559238e-01,  1.03203773e+00,\n",
       "        -2.11982672e-01, -1.13598907e-01]])"
      ]
     },
     "execution_count": 32,
     "metadata": {},
     "output_type": "execute_result"
    }
   ],
   "source": [
    "from sklearn.pipeline import Pipeline\n",
    "from sklearn.preprocessing import StandardScaler\n",
    "\n",
    "num_pipeline = Pipeline([\n",
    "        ('imputer', SimpleImputer(strategy=\"median\")),  # median값으로 결측치 채우기\n",
    "        ('std_scaler', StandardScaler()),  # 특성 스케일링 표준화 평균이 0, 분산이 1\n",
    "    ]) # 위 2가지 작업을 순서대로 해줌\n",
    "\n",
    "rest_num_tr = num_pipeline.fit_transform(rest_num)\n",
    "rest_num_tr"
   ]
  },
  {
   "cell_type": "markdown",
   "id": "5c6f6187",
   "metadata": {},
   "source": [
    "**수치형 데이터 & 범주형 데이터**  \n",
    "칼럼별 변환"
   ]
  },
  {
   "cell_type": "code",
   "execution_count": 33,
   "id": "daeed843",
   "metadata": {},
   "outputs": [
    {
     "data": {
      "text/plain": [
       "((8875, 8304), (8875, 8))"
      ]
     },
     "execution_count": 33,
     "metadata": {},
     "output_type": "execute_result"
    }
   ],
   "source": [
    "from sklearn.compose import ColumnTransformer # 각 col별로 다른 transform을 해줄 수 있다.\n",
    "\n",
    "num_attribs = list(rest_num)\n",
    "cat_attribs = [\"Restaurant\", \"Location\", \"Cuisines\"]\n",
    "\n",
    "full_pipeline = ColumnTransformer([\n",
    "        (\"num\", num_pipeline, num_attribs), # 수치형 데이터 변환\n",
    "        (\"cat\", OneHotEncoder(), cat_attribs), #범주형 데이터 변환\n",
    "    ])\n",
    "\n",
    "rest_prepared = full_pipeline.fit_transform(rest)\n",
    "rest_prepared.shape, rest.shape"
   ]
  },
  {
   "cell_type": "markdown",
   "id": "3b239398",
   "metadata": {},
   "source": [
    "rest_prepared : 준비된 데이터셋"
   ]
  },
  {
   "cell_type": "markdown",
   "id": "3992d35e",
   "metadata": {},
   "source": [
    "-----"
   ]
  },
  {
   "cell_type": "markdown",
   "id": "0030e3c5",
   "metadata": {},
   "source": [
    "## 5. 모델 선택과 훈련"
   ]
  },
  {
   "cell_type": "markdown",
   "id": "01acae89",
   "metadata": {},
   "source": [
    "### 모델 훈련\n",
    "**선형회귀**"
   ]
  },
  {
   "cell_type": "code",
   "execution_count": 34,
   "id": "a3efa945",
   "metadata": {},
   "outputs": [
    {
     "data": {
      "text/plain": [
       "LinearRegression()"
      ]
     },
     "execution_count": 34,
     "metadata": {},
     "output_type": "execute_result"
    }
   ],
   "source": [
    "from sklearn.linear_model import LinearRegression\n",
    "\n",
    "lin_reg = LinearRegression()\n",
    "lin_reg.fit(rest_prepared, rest_labels) # 데이터셋, 데이터 목표값"
   ]
  },
  {
   "cell_type": "code",
   "execution_count": 35,
   "id": "1222167d",
   "metadata": {},
   "outputs": [
    {
     "data": {
      "text/plain": [
       "array([ 0.12746057,  0.70671649,  0.24456128, ..., -1.95998297,\n",
       "        4.98394893, -1.93686097])"
      ]
     },
     "execution_count": 35,
     "metadata": {},
     "output_type": "execute_result"
    }
   ],
   "source": [
    "lin_reg.coef_ # 각각의 Feature에 해당하는 상관계수 값들 "
   ]
  },
  {
   "cell_type": "code",
   "execution_count": 36,
   "id": "48914d5a",
   "metadata": {},
   "outputs": [
    {
     "data": {
      "text/plain": [
       "[(145.42087587797695, 'ID4204'),\n",
       " (135.65680641856574, 'ID8119'),\n",
       " (108.01088321334583, 'ID596'),\n",
       " (88.3048487148388, 'ID6882'),\n",
       " (87.33817370976698, 'ID829'),\n",
       " (87.0405169205729, 'ID1754'),\n",
       " (85.93608538360388, 'ID8336'),\n",
       " (85.03206681092796, 'ID613'),\n",
       " (84.7798854511373, 'ID1342'),\n",
       " (84.25007327208786, 'ID1926'),\n",
       " (83.9556082722234, 'ID3967'),\n",
       " (83.93823893578562, 'ID1384'),\n",
       " (82.4909962147097, 'ID7618'),\n",
       " (82.15519233097227, 'ID5439'),\n",
       " (78.50236089334808, 'ID52'),\n",
       " (78.06907281708389, 'ID1434'),\n",
       " (77.89502597418935, 'ID1375'),\n",
       " (76.91441865884349, 'ID6823'),\n",
       " (75.6339563441319, 'ID36'),\n",
       " (75.36706899618645, 'ID4599'),\n",
       " (75.30071300570066, 'ID6458'),\n",
       " (73.79517901001545, 'ID4243'),\n",
       " (73.7606710092648, 'ID616'),\n",
       " (72.2694266168433, 'ID857'),\n",
       " (72.20066918948439, 'ID4447'),\n",
       " (72.07859921998941, 'ID5787'),\n",
       " (71.85187490011232, 'ID609'),\n",
       " (71.65866205923948, 'ID4970'),\n",
       " (71.01115305946198, 'ID657'),\n",
       " (68.99393380385382, 'ID5934'),\n",
       " (67.58117752523255, 'ID2306'),\n",
       " (65.81529090708571, 'ID7523'),\n",
       " (65.58136320956991, 'ID4759'),\n",
       " (63.465036554383616, 'ID1324'),\n",
       " (63.16986928499793, 'ID3663'),\n",
       " (60.8650728041839, 'ID4880'),\n",
       " (59.73285071972143, 'ID4300'),\n",
       " (58.57071005627206, 'ID7530'),\n",
       " (58.43336212282175, 'ID5065'),\n",
       " (58.28479515343667, 'ID5074'),\n",
       " (55.66975836656355, 'ID2394'),\n",
       " (55.427285154174534, 'ID1091'),\n",
       " (55.16040882457166, 'ID5861'),\n",
       " (54.49255758427985, 'ID2960'),\n",
       " (54.31422144483977, 'ID979'),\n",
       " (54.24705364070948, 'ID1514'),\n",
       " (53.3023643735163, 'ID6875'),\n",
       " (52.405099228868416, 'ID777'),\n",
       " (51.261252348933695, 'ID889'),\n",
       " (51.06607400554977, 'ID429'),\n",
       " (50.26302806985642, 'ID2992'),\n",
       " (50.22930844653539, 'ID1544'),\n",
       " (49.76941250836482, 'ID4064'),\n",
       " (49.71392278629682, 'ID3706'),\n",
       " (49.69355924153292, 'ID5506'),\n",
       " (49.66294209003009, 'ID6756'),\n",
       " (49.48912481989871, 'ID500'),\n",
       " (49.474022790534654, 'ID7377'),\n",
       " (49.46159792529888, 'ID1628'),\n",
       " (49.15442663417381, 'ID7123'),\n",
       " (49.07556241913417, 'ID8357'),\n",
       " (48.95251400226684, 'ID4357'),\n",
       " (48.8763763693645, 'ID294'),\n",
       " (48.870524454153646, 'ID6050'),\n",
       " (48.69106549848281, 'ID7188'),\n",
       " (48.63210819093783, 'ID6760'),\n",
       " (48.539331826321494, 'ID917'),\n",
       " (48.52974039919029, 'ID8051'),\n",
       " (48.52170538562957, 'ID5801'),\n",
       " (48.45168895152314, 'ID5406'),\n",
       " (47.99939682773388, 'ID1940'),\n",
       " (47.84206398225284, 'ID932'),\n",
       " (47.24698071740081, 'ID4135'),\n",
       " (47.17586767340784, 'ID919'),\n",
       " (46.61127039138956, 'ID2839'),\n",
       " (46.33322271296552, 'ID2322'),\n",
       " (46.020995197572944, 'ID2600'),\n",
       " (46.000297860081204, 'ID4554'),\n",
       " (45.502876698451814, 'ID3886'),\n",
       " (45.041848686194776, 'ID6969'),\n",
       " (44.69680133697009, 'ID610'),\n",
       " (44.65847289564227, 'ID1444'),\n",
       " (44.456046616017744, 'ID844'),\n",
       " (44.19850734741165, 'ID5865'),\n",
       " (44.09889563370659, 'ID1914'),\n",
       " (43.84710908457179, 'ID3768'),\n",
       " (43.83142634307353, 'ID4627'),\n",
       " (43.75679764721972, 'ID936'),\n",
       " (43.67372380800522, 'ID607'),\n",
       " (43.44122705077236, 'ID1810'),\n",
       " (43.21314585219213, 'ID1368'),\n",
       " (43.17091176015654, 'ID1417'),\n",
       " (42.977491041230024, 'ID5259'),\n",
       " (42.69809754626051, 'ID3281'),\n",
       " (42.51517006209493, 'ID2916'),\n",
       " (42.35552040954612, 'ID4785'),\n",
       " (42.24377283615557, 'ID6624'),\n",
       " (42.11139285602453, 'ID2837'),\n",
       " (42.07150901053162, 'ID4639'),\n",
       " (41.639301060499214, 'ID1315'),\n",
       " (41.4600926470022, 'ID8448'),\n",
       " (41.16982462709761, 'ID7421'),\n",
       " (41.088964452136906, 'ID5066'),\n",
       " (41.08755942517458, 'ID6972'),\n",
       " (41.07251249363705, 'ID7360'),\n",
       " (41.053335567648624, 'ID1955'),\n",
       " (41.0155551217542, 'ID3692'),\n",
       " (40.90793787814725, 'ID6122'),\n",
       " (40.812022637434644, 'ID8549'),\n",
       " (40.76802403188427, 'ID3990'),\n",
       " (40.609612612661984, 'ID1769'),\n",
       " (40.559737615860165, 'ID8250'),\n",
       " (40.44494695984394, 'ID3254'),\n",
       " (40.289275411823745, 'ID5370'),\n",
       " (40.289275411823745, 'ID3696'),\n",
       " (40.26821451236783, 'ID6441'),\n",
       " (40.15352953438337, 'ID7500'),\n",
       " (40.117976438225995, 'ID6047'),\n",
       " (40.02605710782788, 'ID8363'),\n",
       " (39.90402426277751, 'ID744'),\n",
       " (39.88822298479304, 'ID6417'),\n",
       " (39.53686462251741, 'ID8586'),\n",
       " (39.489014114195406, 'ID1598'),\n",
       " (39.48576692305639, 'ID8263'),\n",
       " (39.46852547205444, 'ID3745'),\n",
       " (39.41675956574754, 'ID5806'),\n",
       " (39.39619446165381, 'ID455'),\n",
       " (39.364102902528764, 'ID4111'),\n",
       " (39.23705393020971, 'ID6934'),\n",
       " (39.193546012714776, 'ID1439'),\n",
       " (39.16908051100801, 'ID1362'),\n",
       " (39.140004635207724, 'ID1482'),\n",
       " (38.96849554124528, 'ID1428'),\n",
       " (38.95832162196372, 'ID3331'),\n",
       " (38.71406436849038, 'ID3216'),\n",
       " (38.70177135722596, 'ID6731'),\n",
       " (38.67699099388962, 'ID4874'),\n",
       " (38.633948755841764, 'ID2102'),\n",
       " (38.421815993296875, 'ID856'),\n",
       " (38.395034748524054, 'ID6360'),\n",
       " (38.3777507202278, 'ID7276'),\n",
       " (38.363826612568296, 'ID6658'),\n",
       " (38.31572598235383, 'ID231'),\n",
       " (38.197915705138946, 'ID8202'),\n",
       " (38.01355751037941, 'ID1464'),\n",
       " (37.97533300790578, 'ID1381'),\n",
       " (37.866433226704316, 'ID344'),\n",
       " (37.846456133757655, 'ID5637'),\n",
       " (37.712170833283984, 'ID8506'),\n",
       " (37.694284622383435, 'ID4726'),\n",
       " (37.621948735787534, 'ID2370'),\n",
       " (37.591894931489854, 'ID201'),\n",
       " (37.53838801531297, 'ID592'),\n",
       " (37.445496305272755, 'ID6842'),\n",
       " (37.339296653451534, 'ID1021'),\n",
       " (37.333767748737195, 'ID7361'),\n",
       " (37.3264132970309, 'ID8589'),\n",
       " (37.296661464914365, 'ID4271'),\n",
       " (37.284143610523245, 'ID5507'),\n",
       " (37.06739337502123, 'ID6824'),\n",
       " (36.92387153920852, 'ID7186'),\n",
       " (36.811169157553365, 'ID5468'),\n",
       " (36.785695196890586, 'ID3673'),\n",
       " (36.57453518042468, 'ID6256'),\n",
       " (36.46755267601, 'ID6494'),\n",
       " (36.46488666023457, 'ID4713'),\n",
       " (36.454163183860246, 'ID6724'),\n",
       " (36.39988085952347, 'ID1017'),\n",
       " (36.36571373971774, 'ID2846'),\n",
       " (36.34375598261001, 'ID3932'),\n",
       " (36.297839680567186, 'ID8264'),\n",
       " (36.297795541002834, 'ID6497'),\n",
       " (36.02194405745886, 'ID3763'),\n",
       " (35.992900339500814, 'ID1450'),\n",
       " (35.95999360187721, 'ID6897'),\n",
       " (35.928236044068484, 'ID5185'),\n",
       " (35.92038089141515, 'ID4883'),\n",
       " (35.89630662570498, 'ID6384'),\n",
       " (35.85605166572701, 'ID7797'),\n",
       " (35.82620331000154, 'ID5632'),\n",
       " (35.752926398311835, 'ID7386'),\n",
       " (35.69373906267134, 'ID8548'),\n",
       " (35.69373906267134, 'ID7227'),\n",
       " (35.69373906267134, 'ID5387'),\n",
       " (35.6808623787051, 'ID3712'),\n",
       " (35.64108465139752, 'ID5799'),\n",
       " (35.62852571115187, 'ID5320'),\n",
       " (35.51504504988781, 'ID3851'),\n",
       " (35.482637723341256, 'ID7039'),\n",
       " (35.28916492229746, 'ID6319'),\n",
       " (35.11768562640166, 'ID2030'),\n",
       " (34.91070997545825, 'ID5862'),\n",
       " (34.89894303871374, 'ID3728'),\n",
       " (34.88340265772393, 'ID2866'),\n",
       " (34.878451855507855, 'ID4502'),\n",
       " (34.8697751239542, 'ID4955'),\n",
       " (34.79617317924349, 'ID2116'),\n",
       " (34.75880132535628, 'ID4997'),\n",
       " (34.559718785462046, 'ID7967'),\n",
       " (34.51148259468033, 'ID5607'),\n",
       " (34.42407090626181, 'ID4293'),\n",
       " (34.40452764863572, 'ID315'),\n",
       " (34.37920301862925, 'ID4951'),\n",
       " (34.329641639333516, 'ID2387'),\n",
       " (34.31016474113688, 'ID2412'),\n",
       " (34.28756447104858, 'ID2966'),\n",
       " (34.234452500849514, 'ID6794'),\n",
       " (34.190095373337826, 'ID6470'),\n",
       " (34.07108081565821, 'ID6778'),\n",
       " (34.06835325291005, 'ID102'),\n",
       " (33.99822075880988, 'ID926'),\n",
       " (33.733183160036525, 'ID8436'),\n",
       " (33.72516912534219, 'ID5899'),\n",
       " (33.65008689315487, 'ID6709'),\n",
       " (33.647904254954575, 'ID7443'),\n",
       " (33.61883667480385, 'ID390'),\n",
       " (33.595522941237704, 'ID7774'),\n",
       " (33.316941532211544, 'ID6276'),\n",
       " (33.02406679659518, 'ID2976'),\n",
       " (32.969869486638224, 'ID2226'),\n",
       " (32.96284074092205, 'ID5743'),\n",
       " (32.85373285014188, 'ID1615'),\n",
       " (32.810656686238175, 'ID2889'),\n",
       " (32.74911068516617, 'ID8044'),\n",
       " (32.73391601627386, 'ID5019'),\n",
       " (32.71129069344827, 'ID3593'),\n",
       " (32.66433012802948, 'ID1826'),\n",
       " (32.62619296540564, 'ID4220'),\n",
       " (32.621347818566875, 'ID5242'),\n",
       " (32.58318888674242, 'ID1627'),\n",
       " (32.581132204101145, 'ID1004'),\n",
       " (32.5629168679863, 'ID3131'),\n",
       " (32.52176002613309, 'ID7969'),\n",
       " (32.46973978774122, 'ID4588'),\n",
       " (32.45425315859623, 'ID8550'),\n",
       " (32.41308271733444, 'ID6274'),\n",
       " (32.372213230482764, 'ID2058'),\n",
       " (32.15876974363946, 'ID297'),\n",
       " (32.08825326832451, 'ID8505'),\n",
       " (32.08074812779464, 'ID3575'),\n",
       " (32.04745955483186, 'ID7726'),\n",
       " (32.02205989352242, 'ID4046'),\n",
       " (31.97801819530039, 'ID2953'),\n",
       " (31.9114982931251, 'ID6500'),\n",
       " (31.895555065043776, 'ID7603'),\n",
       " (31.893633743204855, 'ID432'),\n",
       " (31.892797734962944, 'ID4326'),\n",
       " (31.84410983733201, 'ID1537'),\n",
       " (31.80972830819245, 'ID3485'),\n",
       " (31.800723150704492, 'ID4758'),\n",
       " (31.76908659048958, 'ID4171'),\n",
       " (31.71086527723364, 'ID2959'),\n",
       " (31.71086527723364, 'ID1465'),\n",
       " (31.703478233160894, 'ID2678'),\n",
       " (31.587410649802845, 'ID7381'),\n",
       " (31.582102427148076, 'ID4936'),\n",
       " (31.563179926923596, 'ID2054'),\n",
       " (31.555071979295196, 'ID6465'),\n",
       " (31.483281563713426, 'ID3342'),\n",
       " (31.44702773254119, 'ID998'),\n",
       " (31.38104359893777, 'ID4518'),\n",
       " (31.375146721480977, 'ID4234'),\n",
       " (31.35225144566937, 'ID5323'),\n",
       " (31.29132274813461, 'ID1476'),\n",
       " (31.18721386458115, 'ID7483'),\n",
       " (31.163615241176554, 'ID3801'),\n",
       " (31.08786912980041, 'ID2336'),\n",
       " (31.065959199691243, 'ID6309'),\n",
       " (31.042454674317913, 'ID1098'),\n",
       " (31.03646141908575, 'ID2331'),\n",
       " (31.00128080585977, 'ID2261'),\n",
       " (30.967622198935775, 'ID2607'),\n",
       " (30.957525770071552, 'ID5874'),\n",
       " (30.913722178934826, 'ID360'),\n",
       " (30.911657598797074, 'ID8266'),\n",
       " (30.858852736043286, 'ID176'),\n",
       " (30.791115653662537, 'ID4859'),\n",
       " (30.786358770201108, 'ID1989'),\n",
       " (30.77518678047846, 'ID7513'),\n",
       " (30.74952597173663, 'ID3489'),\n",
       " (30.72813234633181, 'ID3426'),\n",
       " (30.71347703516802, 'ID1640'),\n",
       " (30.701251850386466, 'ID2169'),\n",
       " (30.664613482721204, 'ID1578'),\n",
       " (30.64180123405145, 'ID4334'),\n",
       " (30.536923623994745, 'ID3020'),\n",
       " (30.505749695119857, 'ID1995'),\n",
       " (30.50488282345066, 'ID2683'),\n",
       " (30.488404756225414, 'ID5810'),\n",
       " (30.313398146323976, 'ID2371'),\n",
       " (30.299151101686512, 'ID3289'),\n",
       " (30.28651790369761, 'ID4805'),\n",
       " (30.20108572147827, 'ID7727'),\n",
       " (30.174532797152903, 'ID7710'),\n",
       " (30.120453064472287, 'ID1570'),\n",
       " (30.096366259289162, 'ID292'),\n",
       " (29.980957163678838, 'ID7410'),\n",
       " (29.978894121149477, 'ID940'),\n",
       " (29.902814783450168, 'ID3478'),\n",
       " (29.832683491147478, 'ID5968'),\n",
       " (29.755903548899276, 'ID8200'),\n",
       " (29.726142872700215, 'ID6031'),\n",
       " (29.597530639743987, 'ID5140'),\n",
       " (29.536052418130364, 'ID7674'),\n",
       " (29.53490314305226, 'ID6600'),\n",
       " (29.457002335201842, 'ID5497'),\n",
       " (29.375917504241283, 'ID138'),\n",
       " (29.329092012865125, 'ID3729'),\n",
       " (29.023658935744066, 'ID6391'),\n",
       " (28.994365742575493, 'ID3458'),\n",
       " (28.98521951179334, 'ID2057'),\n",
       " (28.971868222520705, 'ID1373'),\n",
       " (28.938793963342132, 'ID873'),\n",
       " (28.90610569800001, 'ID1522'),\n",
       " (28.876760267050443, 'ID5636'),\n",
       " (28.7495698116745, 'ID2320'),\n",
       " (28.71065468479219, 'ID5951'),\n",
       " (28.699956131200185, 'ID2738'),\n",
       " (28.675752860587462, 'ID6263'),\n",
       " (28.63712186557979, 'ID3376'),\n",
       " (28.611189654352334, 'ID4667'),\n",
       " (28.60251445904672, 'ID4182'),\n",
       " (28.586755720242305, 'ID3699'),\n",
       " (28.491534185808597, 'ID2127'),\n",
       " (28.46553156386453, 'ID7038'),\n",
       " (28.450034066575363, 'ID3146'),\n",
       " (28.393978349342312, 'ID6141'),\n",
       " (28.363509603974173, 'ID4289'),\n",
       " (28.310855192700345, 'ID7996'),\n",
       " (28.243318702240384, 'ID5450'),\n",
       " (28.20529209334753, 'ID5732'),\n",
       " (28.20476800936417, 'ID4236'),\n",
       " (28.090362603025426, 'ID8215'),\n",
       " (28.043975981775457, 'ID5557'),\n",
       " (28.04120428572627, 'ID5521'),\n",
       " (27.867335402192946, 'ID414'),\n",
       " (27.839350755135563, 'ID1595'),\n",
       " (27.74571050689068, 'ID4022'),\n",
       " (27.722530468869614, 'ID5554'),\n",
       " (27.707364919122412, 'ID5105'),\n",
       " (27.67111171625915, 'ID4918'),\n",
       " (27.496616407672548, 'ID6102'),\n",
       " (27.467067597698534, 'ID4485'),\n",
       " (27.420277412235333, 'ID7392'),\n",
       " (27.393625270644897, 'ID2829'),\n",
       " (27.224351140201545, 'ID3714'),\n",
       " (27.17984062770081, 'ID6947'),\n",
       " (27.12718621642688, 'ID5150'),\n",
       " (26.95455740260951, 'ID1543'),\n",
       " (26.946034892115932, 'ID3161'),\n",
       " (26.938557763994318, 'ID2667'),\n",
       " (26.91283224926002, 'ID3576'),\n",
       " (26.84817166938231, 'ID4208'),\n",
       " (26.807678503262334, 'ID4424'),\n",
       " (26.799951103893477, 'ID8591'),\n",
       " (26.758234753000025, 'ID2155'),\n",
       " (26.68868370517898, 'ID305'),\n",
       " (26.633027598136522, 'ID3126'),\n",
       " (26.614253424550903, 'ID8578'),\n",
       " (26.606592864133905, 'ID6922'),\n",
       " (26.576123048518202, 'ID3233'),\n",
       " (26.556927743186403, 'ID3290'),\n",
       " (26.55360579391363, 'ID7901'),\n",
       " (26.537040276823454, 'ID1499'),\n",
       " (26.46949441054547, 'ID5345'),\n",
       " (26.43721981967865, 'ID1385'),\n",
       " (26.399509243517958, 'ID5337'),\n",
       " (26.388018494986014, 'ID8316'),\n",
       " (26.3411544872534, 'ID3019'),\n",
       " (26.334635126133936, 'ID2199'),\n",
       " (26.32752347618175, 'ID7219'),\n",
       " (26.30891269322067, 'ID7263'),\n",
       " (25.97249475891716, 'ID5129'),\n",
       " (25.955243785936425, 'ID8286'),\n",
       " (25.930240013231728, 'ID567'),\n",
       " (25.918398113456128, 'ID1798'),\n",
       " (25.885501464302372, 'ID3698'),\n",
       " (25.82685402506762, 'ID4742'),\n",
       " (25.769671893235422, 'ID6'),\n",
       " (25.76467975346671, 'ID1606'),\n",
       " (25.75648053197087, 'ID6745'),\n",
       " (25.626201856903275, 'ID3077'),\n",
       " (25.535738078720847, 'ID5324'),\n",
       " (25.521592131299244, 'ID2542'),\n",
       " (25.51136155177615, 'ID1872'),\n",
       " (25.335302722499364, 'ID2325'),\n",
       " (25.231828086559442, 'ID1839'),\n",
       " (25.19907738375343, 'ID4690'),\n",
       " (25.188498516631352, 'ID821'),\n",
       " (25.123281941031003, 'ID5653'),\n",
       " (25.094954545236074, 'ID3752'),\n",
       " (25.038904432838553, 'ID3547'),\n",
       " (25.03887479649299, 'ID4576'),\n",
       " (25.01664012441672, 'ID2427'),\n",
       " (24.987517567763252, 'ID335'),\n",
       " (24.97734521816702, 'ID8274'),\n",
       " (24.976070071500743, 'ID6261'),\n",
       " (24.940720389711814, 'ID3158'),\n",
       " (24.90476631954885, 'ID2162'),\n",
       " (24.824326914758885, 'ID5270'),\n",
       " (24.79598109926939, 'ID3884'),\n",
       " (24.784345930979267, 'ID186'),\n",
       " (24.720191379753455, 'ID5050'),\n",
       " (24.69258340346183, 'ID3988'),\n",
       " (24.63743109753283, 'ID4324'),\n",
       " (24.582068313501743, 'ID1695'),\n",
       " (24.514194062898373, 'ID2298'),\n",
       " (24.442837742622, 'ID6335'),\n",
       " (24.399793943526813, 'ID4267'),\n",
       " (24.398246411666065, 'ID1584'),\n",
       " (24.259258208909426, 'ID1232'),\n",
       " (24.24109926844914, 'ID4399'),\n",
       " (24.2198166254712, 'ID1541'),\n",
       " (24.11407744129952, 'ID1283'),\n",
       " (24.104831574046845, 'ID150'),\n",
       " (24.09752990015773, 'ID7531'),\n",
       " (24.09041686587739, 'ID2152'),\n",
       " (24.010385133247443, 'ID959'),\n",
       " (23.998740957874713, 'ID5235'),\n",
       " (23.987883721001452, 'ID2380'),\n",
       " (23.933104984531376, 'ID1775'),\n",
       " (23.862547231845838, 'ID2304'),\n",
       " (23.66742022431701, 'ID2745'),\n",
       " (23.64490579550592, 'ID1732'),\n",
       " (23.643872325881972, 'ID4118'),\n",
       " (23.643616996802187, 'ID1167'),\n",
       " (23.57459414790082, 'ID3900'),\n",
       " (23.557227936233947, 'ID5189'),\n",
       " (23.554221589033457, 'ID1549'),\n",
       " (23.515350354958983, 'ID7173'),\n",
       " (23.461234712602664, 'ID3717'),\n",
       " (23.410207846592474, 'ID7791'),\n",
       " (23.309790660658024, 'ID1545'),\n",
       " (23.30903738622774, 'ID5453'),\n",
       " (23.24119765137546, 'ID3436'),\n",
       " (23.229330795573905, 'ID1003'),\n",
       " (23.195721851179254, 'ID7550'),\n",
       " (23.15869707619369, 'ID2227'),\n",
       " (23.11853074446882, 'ID7643'),\n",
       " (23.07712761918696, 'ID2481'),\n",
       " (23.022456110891326, 'ID2362'),\n",
       " (22.872631756425456, 'ID6386'),\n",
       " (22.857846031082882, 'ID5579'),\n",
       " (22.76319249152629, 'ID6740'),\n",
       " (22.692069429014605, 'ID2950'),\n",
       " (22.668457503701124, 'ID589'),\n",
       " (22.62423931167262, 'ID999'),\n",
       " (22.57046653299978, 'ID7988'),\n",
       " (22.458138116338564, 'ID6886'),\n",
       " (22.42172277465701, 'ID3048'),\n",
       " (22.3996365829479, 'ID7403'),\n",
       " (22.27942718588288, 'ID6108'),\n",
       " (22.278420747913092, 'ID6080'),\n",
       " (22.193565574870796, 'ID6569'),\n",
       " (22.15301454413325, 'ID5033'),\n",
       " (22.101860701163357, 'ID3451'),\n",
       " (22.02075366385547, 'ID7482'),\n",
       " (22.01446846860976, 'ID4210'),\n",
       " (21.98093788259819, 'ID2278'),\n",
       " (21.956758317249626, 'ID5258'),\n",
       " (21.87915014174566, 'ID1876'),\n",
       " (21.860249124984897, 'ID7270'),\n",
       " (21.849193726176665, 'ID4860'),\n",
       " (21.792790421050658, 'ID1358'),\n",
       " (21.749591539268213, 'ID4343'),\n",
       " (21.611845609497557, 'ID807'),\n",
       " (21.57841566375921, 'ID3700'),\n",
       " (21.52831234411846, 'ID2646'),\n",
       " (21.513703953078995, 'ID3098'),\n",
       " (21.513457654071583, 'ID7551'),\n",
       " (21.458043966785006, 'ID3669'),\n",
       " (21.354688645185114, 'ID5438'),\n",
       " (21.35198400823718, 'ID3946'),\n",
       " (21.25979002174049, 'ID1452'),\n",
       " (21.253795612548906, 'ID5236'),\n",
       " (21.217996462253787, 'ID1371'),\n",
       " (20.966958541143143, 'ID4567'),\n",
       " (20.861209145647436, 'ID7506'),\n",
       " (20.84551602929886, 'ID7775'),\n",
       " (20.8319662653959, 'ID7306'),\n",
       " (20.820770683235096, 'ID4580'),\n",
       " (20.80559359466903, 'ID3337'),\n",
       " (20.743585956682992, 'ID4673'),\n",
       " (20.669729501815993, 'ID6084'),\n",
       " (20.662517076178762, 'ID6134'),\n",
       " (20.62601367904416, 'ID828'),\n",
       " (20.55419738808014, 'ID7644'),\n",
       " (20.53306922009075, 'ID6502'),\n",
       " (20.513181723973148, 'ID8124'),\n",
       " (20.51027423069032, 'ID2097'),\n",
       " (20.498376428772893, 'ID7510'),\n",
       " (20.480044774934605, 'ID7613'),\n",
       " (20.47129508983875, 'ID953'),\n",
       " (20.380570206025293, 'ID2922'),\n",
       " (20.309756067546523, 'ID382'),\n",
       " (20.255226710664445, 'ID4080'),\n",
       " (20.23492838769223, 'ID7064'),\n",
       " (20.211720864311683, 'ID3198'),\n",
       " (20.20195810908337, 'ID811'),\n",
       " (20.149123548943077, 'ID2934'),\n",
       " (20.148927633944954, 'ID5395'),\n",
       " (20.112285661157554, 'ID7534'),\n",
       " (19.99413471486594, 'ID7987'),\n",
       " (19.96532732221571, 'ID5428'),\n",
       " (19.95770724800998, 'ID4718'),\n",
       " (19.946133424109384, 'ID7251'),\n",
       " (19.90865166604281, 'ID4840'),\n",
       " (19.88633018940515, 'ID4389'),\n",
       " (19.821484278085332, 'ID5576'),\n",
       " (19.799755885332505, 'ID3980'),\n",
       " (19.702851516859326, 'ID7244'),\n",
       " (19.69953561590667, 'ID2200'),\n",
       " (19.691898578777703, 'ID5644'),\n",
       " (19.67551874774602, 'ID7249'),\n",
       " (19.597753881963076, 'ID6318'),\n",
       " (19.590510421259637, 'ID5788'),\n",
       " (19.56752858028073, 'ID4312'),\n",
       " (19.562933006393692, 'ID2137'),\n",
       " (19.516263067912824, 'ID3961'),\n",
       " (19.49514600912884, 'ID1157'),\n",
       " (19.4701671170659, 'ID5926'),\n",
       " (19.449329502665606, 'ID554'),\n",
       " (19.412136742453715, 'ID3603'),\n",
       " (19.218785236323868, 'ID8024'),\n",
       " (19.19960786442114, 'ID2504'),\n",
       " (19.19133204414538, 'ID7650'),\n",
       " (19.1877434141678, 'ID7047'),\n",
       " (19.180868793052895, 'ID4508'),\n",
       " (19.158714048578155, 'ID296'),\n",
       " (19.074630982319363, 'ID31'),\n",
       " (19.036250238046655, 'ID5850'),\n",
       " (18.951769932412216, 'ID2266'),\n",
       " (18.946963293264357, 'ID1078'),\n",
       " (18.946959776804643, 'ID6789'),\n",
       " (18.933378408908588, 'ID1795'),\n",
       " (18.811602673753583, 'ID4884'),\n",
       " (18.79359409672195, 'ID7002'),\n",
       " (18.769193209473723, 'ID1069'),\n",
       " (18.73811385324903, 'ID8348'),\n",
       " (18.625593623050165, 'ID2526'),\n",
       " (18.616358722052283, 'ID1557'),\n",
       " (18.57370247099151, 'ID191'),\n",
       " (18.538152344473424, 'ID3509'),\n",
       " (18.50765048658063, 'ID5226'),\n",
       " (18.43521456455899, 'ID8404'),\n",
       " (18.418993968316887, 'ID6552'),\n",
       " (18.37702221836151, 'ID7820'),\n",
       " (18.354200958097188, 'ID4741'),\n",
       " (18.335676490062742, 'ID2120'),\n",
       " (18.334065838693824, 'ID722'),\n",
       " (18.326484261220607, 'ID8371'),\n",
       " (18.16050645443364, 'ID498'),\n",
       " (18.137834937676228, 'ID742'),\n",
       " (18.131353563945492, 'ID1571'),\n",
       " (18.127346671276356, 'ID2115'),\n",
       " (18.03607468348011, 'ID7315'),\n",
       " (17.98858616832032, 'ID6440'),\n",
       " (17.951728404818734, 'ID1865'),\n",
       " (17.872058112908675, 'ID3738'),\n",
       " (17.861079403455623, 'ID907'),\n",
       " (17.85730934509756, 'ID6728'),\n",
       " (17.85451150331114, 'ID8435'),\n",
       " (17.71313439514508, 'ID3531'),\n",
       " (17.712366593949977, 'ID2275'),\n",
       " (17.700879691781907, 'ID6454'),\n",
       " (17.684338997096862, 'ID8444'),\n",
       " (17.663249872963064, 'ID2749'),\n",
       " (17.628716255627364, 'ID3929'),\n",
       " (17.560783336568722, 'ID1244'),\n",
       " (17.556100975748727, 'ID1653'),\n",
       " (17.50588970508464, 'ID7065'),\n",
       " (17.441441770642903, 'ID59'),\n",
       " (17.394905322553175, 'ID8351'),\n",
       " (17.376583349522985, 'ID4311'),\n",
       " (17.317224790035844, 'ID1801'),\n",
       " (17.30688915674473, 'ID533'),\n",
       " (17.27647632627791, 'ID2757'),\n",
       " (17.231867178265485, 'ID6421'),\n",
       " (17.168015002039528, 'ID4615'),\n",
       " (17.15776734492532, 'ID6676'),\n",
       " (17.12922552958902, 'ID6018'),\n",
       " (17.07553722026624, 'ID8100'),\n",
       " (17.071195721343063, 'ID6939'),\n",
       " (17.016329895187447, 'ID651'),\n",
       " (17.01403918471379, 'ID3252'),\n",
       " (16.980744189002582, 'ID5760'),\n",
       " (16.812063993390183, 'ID4861'),\n",
       " (16.73076440460923, 'ID1666'),\n",
       " (16.7200077466072, 'ID6531'),\n",
       " (16.692068604495102, 'ID505'),\n",
       " (16.61780627210068, 'ID5661'),\n",
       " (16.616935879044803, 'ID6927'),\n",
       " (16.541297364117657, 'ID861'),\n",
       " (16.518163418202924, 'ID6852'),\n",
       " (16.482132110180252, 'ID1415'),\n",
       " (16.460846679078365, 'ID5416'),\n",
       " (16.453762387175093, 'ID3399'),\n",
       " (16.449610029873508, 'ID2881'),\n",
       " (16.361529385788568, 'ID895'),\n",
       " (16.28770742782477, 'ID124'),\n",
       " (16.285395662381834, 'ID2125'),\n",
       " (16.263747181924717, 'ID4531'),\n",
       " (16.25548773780732, 'ID3392'),\n",
       " (16.251941057239584, 'ID1145'),\n",
       " (16.203217643911735, 'ID2265'),\n",
       " (16.149633715960917, 'ID5871'),\n",
       " (16.100294028258133, 'ID5108'),\n",
       " (16.096427677477188, 'ID3516'),\n",
       " (16.045848508846753, 'ID903'),\n",
       " (16.033566353987148, 'ID621'),\n",
       " (16.0232790965514, 'ID6015'),\n",
       " (16.01201640608373, 'ID8431'),\n",
       " (15.989449324953474, 'ID916'),\n",
       " (15.96572062206663, 'ID8177'),\n",
       " (15.941028569552751, 'ID1334'),\n",
       " (15.913245733343421, 'ID7647'),\n",
       " (15.851099474297374, 'ID7401'),\n",
       " (15.82570548280157, 'ID927'),\n",
       " (15.811586928476363, 'ID1092'),\n",
       " (15.770207014403823, 'ID6888'),\n",
       " (15.758173429483008, 'ID1610'),\n",
       " (15.75447340478084, 'ID4035'),\n",
       " (15.708457122546868, 'ID4944'),\n",
       " (15.680164489851512, 'ID835'),\n",
       " (15.67037074323658, 'ID4454'),\n",
       " (15.650710599228495, 'ID5664'),\n",
       " (15.635712998511385, 'ID3400'),\n",
       " (15.607498809563838, 'ID6235'),\n",
       " (15.574707807894143, 'ID7220'),\n",
       " (15.571616531662661, 'ID3925'),\n",
       " (15.56951272709691, 'ID558'),\n",
       " (15.567977893637217, 'ID5727'),\n",
       " (15.560350888602999, 'ID7112'),\n",
       " (15.527206662535193, 'ID4709'),\n",
       " (15.527206662535193, 'ID2166'),\n",
       " (15.511184941808299, 'ID6571'),\n",
       " (15.49189458604525, 'ID2386'),\n",
       " (15.481856720226144, 'ID3629'),\n",
       " (15.481558060577605, 'ID6971'),\n",
       " (15.416265005660685, 'ID6408'),\n",
       " (15.406658066297839, 'ID7156'),\n",
       " (15.406509935461154, 'ID5784'),\n",
       " (15.397477455517583, 'ID7568'),\n",
       " (15.379893360932705, 'ID514'),\n",
       " (15.358895082001448, 'ID877'),\n",
       " (15.35380062740397, 'ID5153'),\n",
       " (15.335095701796597, 'ID5843'),\n",
       " (15.307248195792242, 'ID2083'),\n",
       " (15.300366911753503, 'ID85'),\n",
       " (15.296111878001888, 'ID5746'),\n",
       " (15.282607705279212, 'ID5361'),\n",
       " (15.273909938669284, 'ID8344'),\n",
       " (15.261726061109469, 'ID8391'),\n",
       " (15.247367279135736, 'ID1089'),\n",
       " (15.201817217002105, 'ID871'),\n",
       " (15.20057955818963, 'ID6390'),\n",
       " (15.197479720529506, 'ID890'),\n",
       " (15.197479720529506, 'ID7559'),\n",
       " (15.197479720529506, 'ID4689'),\n",
       " (15.18183517247389, 'ID196'),\n",
       " (15.161591322080433, 'ID5605'),\n",
       " (15.147268555589381, 'ID4858'),\n",
       " (15.121558106773499, 'ID3538'),\n",
       " (15.108463292057843, 'ID56'),\n",
       " (15.09614707183164, 'ID2688'),\n",
       " (15.068716860595533, 'ID5312'),\n",
       " (14.99653627144591, 'ID177'),\n",
       " (14.971521238261099, 'ID5205'),\n",
       " (14.962767708685744, 'ID2182'),\n",
       " (14.925076583308373, 'ID2612'),\n",
       " (14.916198110256436, 'ID576'),\n",
       " (14.891198252582871, 'ID7880'),\n",
       " (14.888674471180611, 'ID7207'),\n",
       " (14.856667020895074, 'ID702'),\n",
       " (14.842992084755714, 'ID6136'),\n",
       " (14.830381865479552, 'ID3455'),\n",
       " (14.808178780708953, 'ID7616'),\n",
       " (14.80377359592743, 'ID4750'),\n",
       " (14.803329795061119, 'ID4383'),\n",
       " (14.771759589776353, 'ID2142'),\n",
       " (14.761274075569156, 'ID925'),\n",
       " (14.759767757871705, 'ID2863'),\n",
       " (14.738407249723657, 'ID5390'),\n",
       " (14.704729460150698, 'ID7130'),\n",
       " (14.686870521468771, 'ID397'),\n",
       " (14.685886411834108, 'ID2292'),\n",
       " (14.678753245794612, 'ID1992'),\n",
       " (14.671193272688893, 'ID5215'),\n",
       " (14.64628847446449, 'ID2334'),\n",
       " (14.642268738493739, 'ID801'),\n",
       " (14.630967407551923, 'ID5448'),\n",
       " (14.58137736229093, 'ID213'),\n",
       " (14.576463592453969, 'ID5059'),\n",
       " (14.573203217983677, 'ID198'),\n",
       " (14.571878394949888, 'ID7214'),\n",
       " (14.56299332232904, 'ID545'),\n",
       " (14.561920284957036, 'ID8645'),\n",
       " (14.554882614381006, 'ID2483'),\n",
       " (14.522521288201142, 'ID5133'),\n",
       " (14.500156462590802, 'ID5267'),\n",
       " (14.447981609127309, 'ID3520'),\n",
       " (14.435686919805907, 'ID487'),\n",
       " (14.430880960855646, 'ID2361'),\n",
       " (14.427740138178894, 'ID2776'),\n",
       " (14.426514781115785, 'ID4085'),\n",
       " (14.42312655472197, 'ID3082'),\n",
       " (14.402680188870022, 'ID7441'),\n",
       " (14.35124526351474, 'ID3617'),\n",
       " (14.346551652600207, 'ID1209'),\n",
       " (14.315579918102893, 'ID7549'),\n",
       " (14.290017654312033, 'ID1966'),\n",
       " (14.283879040646097, 'ID8189'),\n",
       " (14.268866236789197, 'ID6716'),\n",
       " (14.263898462504137, 'ID4773'),\n",
       " (14.231485816000728, 'ID62'),\n",
       " (14.22883813123573, 'ID8493'),\n",
       " (14.218352993984416, 'ID3345'),\n",
       " (14.215890903499696, 'ID1056'),\n",
       " (14.20876580348831, 'ID2037'),\n",
       " (14.196059018441092, 'ID43'),\n",
       " (14.178897442689363, 'ID2317'),\n",
       " (14.16837951101555, 'ID1318'),\n",
       " (14.148061867426872, 'ID7543'),\n",
       " (14.145757713828564, 'ID1041'),\n",
       " (14.111544941401535, 'ID2971'),\n",
       " (14.107249953852769, 'ID2014'),\n",
       " (14.071039843180138, 'ID1490'),\n",
       " (14.04891586851132, 'ID5413'),\n",
       " (14.03639678260674, 'ID7411'),\n",
       " (14.03639678260674, 'ID3189'),\n",
       " (14.035402511405081, 'ID3474'),\n",
       " (14.022809108446705, 'ID7514'),\n",
       " (13.99738904108504, 'ID588'),\n",
       " (13.99091376257251, 'ID3994'),\n",
       " (13.980161969535015, 'ID930'),\n",
       " (13.957548417675627, 'ID326'),\n",
       " (13.950777668784955, 'ID911'),\n",
       " (13.950734646261932, 'ID749'),\n",
       " (13.892335066155963, 'ID561'),\n",
       " (13.889891084139107, 'ID1163'),\n",
       " (13.876565956632643, 'ID646'),\n",
       " (13.863634065369746, 'ID5442'),\n",
       " (13.861707490651755, 'ID860'),\n",
       " (13.85754243129711, 'ID428'),\n",
       " (13.848177559092342, 'ID2999'),\n",
       " (13.836981558814763, 'ID407'),\n",
       " (13.83382576941236, 'ID216'),\n",
       " (13.823450009546601, 'ID6200'),\n",
       " (13.815645006647431, 'ID4501'),\n",
       " (13.810455298937478, 'ID6001'),\n",
       " (13.699796301854265, 'ID4298'),\n",
       " (13.684235585756193, 'ID4295'),\n",
       " (13.683319383215057, 'ID7989'),\n",
       " (13.676820834115643, 'ID3942'),\n",
       " (13.675473177631208, 'ID7202'),\n",
       " (13.65436718106389, 'ID7962'),\n",
       " (13.641675674345377, 'ID8273'),\n",
       " (13.629124219657523, 'ID7147'),\n",
       " (13.624353688442968, 'ID6064'),\n",
       " (13.615622161882783, 'ID1291'),\n",
       " (13.59515491971654, 'ID6196'),\n",
       " (13.589021263071546, 'ID8519'),\n",
       " (13.56726543939467, 'ID477'),\n",
       " (13.559420885193902, 'ID172'),\n",
       " (13.52829138420897, 'ID2693'),\n",
       " (13.511419014593695, 'ID4737'),\n",
       " (13.481728562117375, 'ID1496'),\n",
       " (13.471045922141696, 'ID3470'),\n",
       " (13.46519631418548, 'ID699'),\n",
       " (13.461956616846875, 'ID7236'),\n",
       " (13.461956616846875, 'ID4150'),\n",
       " (13.455201286843286, 'ID3928'),\n",
       " (13.446268238576973, 'ID912'),\n",
       " (13.437518239692722, 'ID2908'),\n",
       " (13.424147082131524, 'ID1332'),\n",
       " (13.42273828571753, 'ID1505'),\n",
       " (13.417447027455133, 'ID6522'),\n",
       " (13.383835911755906, 'ID6962'),\n",
       " (13.379295328341627, 'ID5210'),\n",
       " (13.3481800559117, 'ID5393'),\n",
       " (13.322297079051895, 'ID2203'),\n",
       " (13.32102676790919, 'ID5699'),\n",
       " (13.316540263064137, 'ID4941'),\n",
       " (13.311037919138949, 'ID1501'),\n",
       " (13.304490526779048, 'ID80'),\n",
       " (13.303415599420841, 'ID1659'),\n",
       " (13.295660613045705, 'ID7587'),\n",
       " (13.24657527169558, 'ID5979'),\n",
       " (13.242943825373821, 'ID4464'),\n",
       " (13.207295015080827, 'ID24'),\n",
       " (13.204311623300887, 'ID3195'),\n",
       " (13.19098224311215, 'ID5914'),\n",
       " (13.18739212416123, 'ID2521'),\n",
       " (13.178505213511702, 'ID3612'),\n",
       " (13.16372966582091, 'ID8341'),\n",
       " (13.148711625796052, 'ID5773'),\n",
       " (13.145849982032312, 'ID270'),\n",
       " (13.141000047752481, 'ID8623'),\n",
       " (13.086069616983893, 'ID6956'),\n",
       " (13.07452512497314, 'ID7552'),\n",
       " (13.070785734020419, 'ID1566'),\n",
       " (13.066352627049001, 'ID2851'),\n",
       " (13.0555366844765, 'ID4162'),\n",
       " (13.034769181592376, 'ID6561'),\n",
       " (13.031517627487707, 'ID2919'),\n",
       " (13.020443938083556, 'ID2471'),\n",
       " (13.018699654524745, 'ID2027'),\n",
       " (12.975401747164778, 'ID3572'),\n",
       " (12.972159909148747, 'ID7120'),\n",
       " (12.961755239508712, 'ID2234'),\n",
       " (12.959955024634649, 'ID1965'),\n",
       " (12.958466132621867, 'ID6376'),\n",
       " (12.955556466766403, 'ID1953'),\n",
       " (12.947756537512317, 'ID4140'),\n",
       " (12.943628579751865, 'ID6433'),\n",
       " (12.94327448602157, 'ID2179'),\n",
       " (12.916905500540915, 'ID3806'),\n",
       " (12.91012416739716, 'ID4040'),\n",
       " (12.905830286291746, 'ID6544'),\n",
       " (12.904252312200134, 'ID6977'),\n",
       " (12.903810297959726, 'ID1760'),\n",
       " (12.86730635219059, 'ID3234'),\n",
       " (12.839106998770255, 'ID1218'),\n",
       " (12.830407345154706, 'ID155'),\n",
       " (12.820535475214378, 'ID2038'),\n",
       " (12.806797222156533, 'ID2073'),\n",
       " (12.80560663476451, 'ID5114'),\n",
       " (12.791369087155502, 'ID3676'),\n",
       " (12.772921239661057, 'ID4889'),\n",
       " (12.766205272355805, 'ID4003'),\n",
       " (12.763497574455052, 'ID3039'),\n",
       " (12.762990565393338, 'ID8430'),\n",
       " (12.755799829601445, 'ID1340'),\n",
       " (12.720085808995961, 'ID8156'),\n",
       " (12.714900282450458, 'ID2356'),\n",
       " (12.710619431685195, 'ID5118'),\n",
       " (12.681579581828045, 'ID8052'),\n",
       " (12.67273924439132, 'ID7485'),\n",
       " (12.653113461540306, 'ID7879'),\n",
       " (12.651235373862008, 'ID4443'),\n",
       " (12.641852887199283, 'ID5858'),\n",
       " (12.633236063094548, 'ID991'),\n",
       " (12.62299500948374, 'ID8227'),\n",
       " (12.621563248092658, 'ID1271'),\n",
       " (12.618729675279978, 'ID7051'),\n",
       " (12.60722834075848, 'ID1579'),\n",
       " (12.601673986981796, 'ID5731'),\n",
       " (12.583885449083834, 'ID4235'),\n",
       " (12.576815720403072, 'ID1079'),\n",
       " (12.565004034042815, 'ID5990'),\n",
       " (12.564808830904203, 'ID6100'),\n",
       " (12.54926217556776, 'ID1686'),\n",
       " (12.506321073873211, 'ID2836'),\n",
       " (12.50631444402419, 'ID2335'),\n",
       " (12.499570024193414, 'ID2285'),\n",
       " (12.490028637591271, 'ID6288'),\n",
       " (12.484218708143505, 'ID8085'),\n",
       " (12.476694856434722, 'ID6560'),\n",
       " (12.469600638229368, 'ID7335'),\n",
       " (12.462894098037502, 'ID5772'),\n",
       " (12.448469727329854, 'ID3766'),\n",
       " (12.437067586463671, 'ID5430'),\n",
       " (12.408100601827412, 'ID6574'),\n",
       " (12.397554057298771, 'ID8521'),\n",
       " (12.380002753774447, 'ID8050'),\n",
       " (12.325453204197727, 'ID530'),\n",
       " (12.31591461506438, 'ID4285'),\n",
       " (12.314717236386082, 'ID1456'),\n",
       " (12.306678052496274, 'ID4792'),\n",
       " (12.303418318863583, 'ID3950'),\n",
       " (12.297134901109477, 'ID6729'),\n",
       " (12.292673881599924, 'ID5274'),\n",
       " (12.254013383137487, 'ID8485'),\n",
       " (12.252834993049932, 'ID8629'),\n",
       " (12.24400848801876, 'ID7849'),\n",
       " (12.243084917755292, 'ID652'),\n",
       " (12.21790960535474, 'ID28'),\n",
       " (12.206954488134894, 'ID8434'),\n",
       " (12.204526858668837, 'ID3130'),\n",
       " (12.20102664281425, 'ID7515'),\n",
       " (12.174944380922062, 'ID2848'),\n",
       " (12.169858994737682, 'ID236'),\n",
       " (12.169543980520324, 'ID718'),\n",
       " (12.15646533951059, 'ID8529'),\n",
       " (12.155021627392939, 'ID6049'),\n",
       " (12.14472697170354, 'ID2638'),\n",
       " (12.142152011156163, 'ID6361'),\n",
       " (12.11168175870921, 'ID882'),\n",
       " (12.099396438209503, 'ID2191'),\n",
       " (12.097175081396088, 'ID1937'),\n",
       " (12.09248169758932, 'ID3938'),\n",
       " (12.082252757815644, 'ID3982'),\n",
       " (12.079791416755246, 'ID1166'),\n",
       " (12.047856100546493, 'ID4412'),\n",
       " (12.044873249355897, 'ID4530'),\n",
       " (12.040162152024307, 'ID6782'),\n",
       " (12.03757676886462, 'ID2957'),\n",
       " (12.031400673690676, 'ID415'),\n",
       " (12.019930225912743, 'ID6356'),\n",
       " (11.979696806125629, 'ID1726'),\n",
       " (11.965183403594297, 'ID6252'),\n",
       " (11.959205308270406, 'ID909'),\n",
       " (11.953424949064955, 'ID7994'),\n",
       " (11.929826486944853, 'ID4670'),\n",
       " (11.925956517119921, 'ID1823'),\n",
       " (11.918000132356003, 'ID1104'),\n",
       " (11.914250817963945, 'ID1183'),\n",
       " (11.907731779673242, 'ID1829'),\n",
       " (11.899852631195488, 'ID1835'),\n",
       " (11.895635694920264, 'ID120'),\n",
       " (11.875823501192817, 'ID6591'),\n",
       " (11.848616112021706, 'ID1426'),\n",
       " (11.83400787342027, 'ID7575'),\n",
       " (11.831000504898853, 'ID4939'),\n",
       " (11.822773415862645, 'ID7352'),\n",
       " (11.81387385483634, 'ID6966'),\n",
       " (11.787554416528334, 'ID1631'),\n",
       " (11.777263910463647, 'ID4409'),\n",
       " (11.774251282514813, 'ID5415'),\n",
       " (11.770119004588745, 'ID4992'),\n",
       " (11.763443827103107, 'ID8443'),\n",
       " (11.75585372315823, 'ID6606'),\n",
       " (11.755190651062586, 'ID7520'),\n",
       " (11.739123854119658, 'ID484'),\n",
       " (11.732576353145324, 'ID5839'),\n",
       " (11.731165842586202, 'ID7325'),\n",
       " (11.698698947010193, 'ID2512'),\n",
       " (11.693772721472794, 'ID915'),\n",
       " (11.689398700656637, 'ID8429'),\n",
       " (11.66838654404665, 'ID6543'),\n",
       " (11.665607663387817, 'ID6854'),\n",
       " (11.653189313733641, 'ID579'),\n",
       " (11.64553816190385, 'ID2145'),\n",
       " (11.63928370102003, 'ID4644'),\n",
       " (11.61654859022647, 'ID7874'),\n",
       " (11.615075747128584, 'ID4511'),\n",
       " (11.614792156150099, 'ID8297'),\n",
       " (11.612513681814859, 'ID4034'),\n",
       " (11.61193086632066, 'ID7464'),\n",
       " (11.607980885589717, 'ID2980'),\n",
       " (11.599625523232262, 'ID6771'),\n",
       " (11.59790732755975, 'ID427'),\n",
       " (11.596138996163969, 'ID7740'),\n",
       " (11.570772254694154, 'ID3307'),\n",
       " (11.569139695158162, 'ID4146'),\n",
       " (11.558631075122442, 'ID94'),\n",
       " (11.544924767385975, 'ID7558'),\n",
       " (11.53593609069644, 'ID2154'),\n",
       " (11.504890257373402, 'ID6581'),\n",
       " (11.484563900078639, 'ID937'),\n",
       " (11.47948379266056, 'ID6345'),\n",
       " (11.477181063198007, 'ID8453'),\n",
       " (11.476070601583801, 'ID7305'),\n",
       " (11.459450646582503, 'ID7604'),\n",
       " (11.44727863541335, 'ID5591'),\n",
       " (11.442746940367503, 'ID5719'),\n",
       " (11.411853469268644, 'ID4969'),\n",
       " (11.404035187936143, 'ID2654'),\n",
       " (11.381027859879373, 'ID5304'),\n",
       " (11.35975815948064, 'ID2164'),\n",
       " (11.357374470948036, 'ID3822'),\n",
       " (11.35489586436872, 'ID7508'),\n",
       " (11.329230594236696, 'ID8605'),\n",
       " (11.321827488648873, 'ID3296'),\n",
       " (11.321566494583296, 'ID3834'),\n",
       " (11.317658057193485, 'ID5190'),\n",
       " (11.29611159147839, 'ID2438'),\n",
       " (11.295328692681387, 'ID3199'),\n",
       " (11.294715706260302, 'ID974'),\n",
       " (11.281379078115837, 'ID4921'),\n",
       " (11.266118460145286, 'ID3658'),\n",
       " (11.265441429730762, 'ID4871'),\n",
       " (11.24700001352618, 'ID7172'),\n",
       " (11.237659155241065, 'ID3117'),\n",
       " (11.199752973322324, 'ID5036'),\n",
       " (11.182127265213689, 'ID4578'),\n",
       " (11.163615356885709, 'ID7297'),\n",
       " (11.15621210778473, 'ID2843'),\n",
       " (11.148826708401812, 'ID2964'),\n",
       " (11.135315854470637, 'ID880'),\n",
       " (11.1120538519871, 'ID5500'),\n",
       " (11.098848324834588, 'ID4352'),\n",
       " (11.090540363873812, 'ID7087'),\n",
       " (11.07739924561582, 'ID117'),\n",
       " (11.069914336463206, 'ID5109'),\n",
       " (11.053128178573012, 'ID4721'),\n",
       " (11.04323862992033, 'ID4496'),\n",
       " (11.040613290510434, 'ID6706'),\n",
       " (11.016906081027692, 'ID4348'),\n",
       " (11.0049754110003, 'ID6185'),\n",
       " (10.994492362063498, 'ID3382'),\n",
       " (10.980927537180083, 'ID8242'),\n",
       " (10.969077549522218, 'ID7309'),\n",
       " (10.961286659781544, 'ID7894'),\n",
       " (10.93482204457649, 'ID3739'),\n",
       " (10.93001783448944, 'ID5179'),\n",
       " (10.927519586229298, 'ID553'),\n",
       " (10.926324218974669, 'ID3297'),\n",
       " (10.909935820155184, 'ID4978'),\n",
       " (10.90631825683329, 'ID6766'),\n",
       " ...]"
      ]
     },
     "execution_count": 36,
     "metadata": {},
     "output_type": "execute_result"
    }
   ],
   "source": [
    "# 각각 상관계수 대수에 따른 Feature 보기\n",
    "\n",
    "cat_encoder = full_pipeline.named_transformers_[\"cat\"]\n",
    "cat_one_hot_attribs = list(cat_encoder.categories_[0])\n",
    "attributes = num_attribs + cat_one_hot_attribs\n",
    "sorted(zip(lin_reg.coef_, attributes), reverse=True)"
   ]
  },
  {
   "cell_type": "code",
   "execution_count": 37,
   "id": "0b1f5867",
   "metadata": {},
   "outputs": [
    {
     "name": "stdout",
     "output_type": "stream",
     "text": [
      "Predictions: [45.  45.  39.1 44.2 30. ]\n"
     ]
    }
   ],
   "source": [
    "# 몇 개의 샘플에 대해 데이터변환 및 예측을 해보자\n",
    "some_data = rest.iloc[:5]\n",
    "some_labels = rest_labels.iloc[:5]\n",
    "some_data_prepared = full_pipeline.transform(some_data)\n",
    "\n",
    "print(\"Predictions:\", lin_reg.predict(some_data_prepared).round(decimals=1))"
   ]
  },
  {
   "cell_type": "code",
   "execution_count": 38,
   "id": "a14904c5",
   "metadata": {},
   "outputs": [
    {
     "name": "stdout",
     "output_type": "stream",
     "text": [
      "Labels: [45, 45, 45, 45, 30]\n"
     ]
    }
   ],
   "source": [
    "print(\"Labels:\", list(some_labels))"
   ]
  },
  {
   "cell_type": "markdown",
   "id": "41cf457f",
   "metadata": {},
   "source": [
    "### 테스트 데이터 평가지표_1. MAE"
   ]
  },
  {
   "cell_type": "code",
   "execution_count": 39,
   "id": "ecd6ead1",
   "metadata": {},
   "outputs": [
    {
     "data": {
      "text/plain": [
       "0.7630335601685259"
      ]
     },
     "execution_count": 39,
     "metadata": {},
     "output_type": "execute_result"
    }
   ],
   "source": [
    "from sklearn.metrics import mean_absolute_error\n",
    "\n",
    "rest_predictions = lin_reg.predict(rest_prepared)\n",
    "lin_mae = mean_absolute_error(rest_labels, rest_predictions)\n",
    "lin_mae"
   ]
  },
  {
   "cell_type": "markdown",
   "id": "2c5704d5",
   "metadata": {},
   "source": [
    "에러값이 매우 낮다. -> over-fitting?"
   ]
  },
  {
   "cell_type": "markdown",
   "id": "1c156c2a",
   "metadata": {},
   "source": [
    "#### MSE, RMSE "
   ]
  },
  {
   "cell_type": "code",
   "execution_count": 40,
   "id": "b8e224d6",
   "metadata": {},
   "outputs": [
    {
     "data": {
      "text/plain": [
       "(8.238028016489746, 2.8701965118245383)"
      ]
     },
     "execution_count": 40,
     "metadata": {},
     "output_type": "execute_result"
    }
   ],
   "source": [
    "import numpy as np\n",
    "from sklearn.metrics import mean_squared_error\n",
    "\n",
    "rest_predictions = lin_reg.predict(rest_prepared)\n",
    "lin_mse = mean_squared_error(rest_labels, rest_predictions)\n",
    "lin_rmse = np.sqrt(lin_mse)\n",
    "lin_mse, lin_rmse"
   ]
  },
  {
   "cell_type": "markdown",
   "id": "e7c2b86e",
   "metadata": {},
   "source": [
    "#### 교차 검증"
   ]
  },
  {
   "cell_type": "code",
   "execution_count": 41,
   "id": "338e1c21",
   "metadata": {},
   "outputs": [],
   "source": [
    "from sklearn.model_selection import cross_val_score\n",
    "\n",
    "def display_scores(scores):\n",
    "    print(\"Scores:\", scores)\n",
    "    print(\"Mean:\", scores.mean())\n",
    "    print(\"Standard deviation:\", scores.std())"
   ]
  },
  {
   "cell_type": "code",
   "execution_count": 42,
   "id": "1901321e",
   "metadata": {},
   "outputs": [
    {
     "name": "stdout",
     "output_type": "stream",
     "text": [
      "Scores: [7.35378167 7.84079467 7.42788114 8.41760765 7.44831927 7.10371773\n",
      " 8.05730213 8.81321214 8.34794104 7.83974719]\n",
      "Mean: 7.865030463108577\n",
      "Standard deviation: 0.5178327749286853\n"
     ]
    }
   ],
   "source": [
    "lin_scores = cross_val_score(lin_reg, rest_prepared, rest_labels,\n",
    "                             scoring=\"neg_mean_absolute_error\", cv=10)\n",
    "lin_mae_scores = np.abs(-lin_scores)\n",
    "display_scores(lin_mae_scores)"
   ]
  },
  {
   "cell_type": "markdown",
   "id": "32cb7437",
   "metadata": {},
   "source": [
    "$\\rightarrow$ Mean값을 보니 살짝 오버피팅 되었다."
   ]
  },
  {
   "cell_type": "markdown",
   "id": "592aeb96",
   "metadata": {},
   "source": [
    "### 테스트 데이터 평가지표_2. Under-prediction의 비율"
   ]
  },
  {
   "cell_type": "markdown",
   "id": "6321ef66",
   "metadata": {},
   "source": [
    "- 예측된 배달시간보다 실제 배달시간이 더 걸린 경우(under-prediction)가 반대의 경우(over-prediction)보다 두 배로 사용자의 경험에 안 좋은 영향을 준다고 알려져 있습니다.  \n",
    "- 가능한 실제 배달시간과 가까운 값을 예측하되 동시에 under-prediction을 최소화하는 것이 좋은 예측모델입니다.  \n",
    "- Under-prediction의 비율 = under-prediction 개수 / 테스트 데이터의 샘플수"
   ]
  },
  {
   "cell_type": "code",
   "execution_count": 43,
   "id": "3b71f862",
   "metadata": {},
   "outputs": [
    {
     "data": {
      "text/plain": [
       "51.52676056338028"
      ]
     },
     "execution_count": 43,
     "metadata": {},
     "output_type": "execute_result"
    }
   ],
   "source": [
    "from sklearn.metrics import mean_squared_error\n",
    "\n",
    "rest_predictions = lin_reg.predict(rest_prepared)\n",
    "under_predict = len(rest[rest_labels > rest_predictions]) / len(rest_predictions) # 실제 배달시간이 더 걸린 경우\n",
    "under_predict * 100"
   ]
  },
  {
   "cell_type": "markdown",
   "id": "4928ac22",
   "metadata": {},
   "source": [
    "$\\rightarrow$ 비율이 절반 이상으로 높다."
   ]
  },
  {
   "cell_type": "markdown",
   "id": "4c9b4974",
   "metadata": {},
   "source": [
    "**그럼 모델을 바꿔보자!**  \n",
    "RandomForestRegressor에 대한 평가"
   ]
  },
  {
   "cell_type": "code",
   "execution_count": 46,
   "id": "d6751ef8",
   "metadata": {},
   "outputs": [
    {
     "data": {
      "text/plain": [
       "1.7220338028169013"
      ]
     },
     "execution_count": 46,
     "metadata": {},
     "output_type": "execute_result"
    }
   ],
   "source": [
    "from sklearn.ensemble import RandomForestRegressor\n",
    "from sklearn.metrics import mean_absolute_error\n",
    "\n",
    "forest_reg = RandomForestRegressor(n_estimators=100, random_state=42)\n",
    "forest_reg.fit(rest_prepared, rest_labels)\n",
    "rest_predictions = forest_reg.predict(rest_prepared)\n",
    "lin_mae = mean_absolute_error(rest_labels, rest_predictions)\n",
    "lin_mae  # MAE"
   ]
  },
  {
   "cell_type": "code",
   "execution_count": 48,
   "id": "d6e3b749",
   "metadata": {},
   "outputs": [
    {
     "name": "stdout",
     "output_type": "stream",
     "text": [
      "Scores: [4.67443694 4.52567568 4.59408784 4.84206081 4.40686937 4.86071026\n",
      " 5.07711387 5.52136415 5.2667982  4.45518602]\n",
      "Mean: 4.822430312217516\n",
      "Standard deviation: 0.3496213171884236\n"
     ]
    }
   ],
   "source": [
    "# RandomForest 교차검증\n",
    "foret_scores = cross_val_score(forest_reg, rest_prepared, rest_labels,\n",
    "                             scoring=\"neg_mean_absolute_error\", cv=10)\n",
    "forest_mae_scores = np.abs(-lin_scores)\n",
    "display_scores(forest_mae_scores)"
   ]
  },
  {
   "cell_type": "code",
   "execution_count": 49,
   "id": "1a614a76",
   "metadata": {},
   "outputs": [
    {
     "data": {
      "text/plain": [
       "28.76619718309859"
      ]
     },
     "execution_count": 49,
     "metadata": {},
     "output_type": "execute_result"
    }
   ],
   "source": [
    "under_predict = len(rest[rest_labels > rest_predictions]) / len(rest_predictions) # 실제 배달시간이 더 걸린 경우\n",
    "under_predict * 100 #  Under-prediction의 비율"
   ]
  },
  {
   "cell_type": "markdown",
   "id": "261164fc",
   "metadata": {},
   "source": [
    "$\\rightarrow$ 교차검증결과의 Mean과 Under-prediction의 지표가 일반 선형회귀보다 더 좋아짐. **이 모델로 채택!**"
   ]
  },
  {
   "cell_type": "markdown",
   "id": "5e0432fb",
   "metadata": {},
   "source": [
    "----"
   ]
  },
  {
   "cell_type": "markdown",
   "id": "7f6cd9ea",
   "metadata": {},
   "source": [
    "## 6. 모델을 상세하게 조정"
   ]
  },
  {
   "cell_type": "markdown",
   "id": "f2d09d50",
   "metadata": {},
   "source": [
    "### 그리드 탐색(Grid Search)\n",
    "\n",
    "수동으로 하이퍼파라미터 조합을 시도하는 대신 GridSearchCV를 사용하는 것이 좋습니다."
   ]
  },
  {
   "cell_type": "code",
   "execution_count": 50,
   "id": "d1e673e9",
   "metadata": {},
   "outputs": [
    {
     "data": {
      "text/plain": [
       "GridSearchCV(cv=5, estimator=RandomForestRegressor(random_state=42),\n",
       "             param_grid=[{'max_features': [2, 4, 6, 8],\n",
       "                          'n_estimators': [3, 10, 30]},\n",
       "                         {'bootstrap': [False], 'max_features': [2, 3, 4],\n",
       "                          'n_estimators': [3, 10]}],\n",
       "             return_train_score=True, scoring='neg_mean_squared_error')"
      ]
     },
     "execution_count": 50,
     "metadata": {},
     "output_type": "execute_result"
    }
   ],
   "source": [
    "from sklearn.model_selection import GridSearchCV\n",
    "\n",
    "param_grid = [\n",
    "    # try 12 (3×4) combinations of hyperparameters\n",
    "    {'n_estimators': [3, 10, 30], 'max_features': [2, 4, 6, 8]},\n",
    "    # then try 6 (2×3) combinations with bootstrap set as False\n",
    "    {'bootstrap': [False], 'n_estimators': [3, 10], 'max_features': [2, 3, 4]},\n",
    "  ]\n",
    "\n",
    "forest_reg = RandomForestRegressor(random_state=42)\n",
    "# train across 5 folds, that's a total of (12+6)*5=90 rounds of training \n",
    "grid_search = GridSearchCV(forest_reg, param_grid, cv=5,\n",
    "                           scoring='neg_mean_absolute_error',\n",
    "                           return_train_score=True)\n",
    "grid_search.fit(rest_prepared, rest_labels)"
   ]
  },
  {
   "cell_type": "code",
   "execution_count": 52,
   "id": "1cedafce",
   "metadata": {},
   "outputs": [
    {
     "data": {
      "text/plain": [
       "{'bootstrap': False, 'max_features': 4, 'n_estimators': 10}"
      ]
     },
     "execution_count": 52,
     "metadata": {},
     "output_type": "execute_result"
    }
   ],
   "source": [
    "grid_search.best_params_"
   ]
  },
  {
   "cell_type": "code",
   "execution_count": 53,
   "id": "896d5308",
   "metadata": {},
   "outputs": [
    {
     "data": {
      "text/plain": [
       "RandomForestRegressor(bootstrap=False, max_features=4, n_estimators=10,\n",
       "                      random_state=42)"
      ]
     },
     "execution_count": 53,
     "metadata": {},
     "output_type": "execute_result"
    }
   ],
   "source": [
    "grid_search.best_estimator_"
   ]
  },
  {
   "cell_type": "code",
   "execution_count": 54,
   "id": "3c1f1261",
   "metadata": {},
   "outputs": [
    {
     "name": "stdout",
     "output_type": "stream",
     "text": [
      "146.0825508607199 {'max_features': 2, 'n_estimators': 3}\n",
      "112.22841549295777 {'max_features': 2, 'n_estimators': 10}\n",
      "102.51110250391234 {'max_features': 2, 'n_estimators': 30}\n",
      "134.9518935837246 {'max_features': 4, 'n_estimators': 3}\n",
      "110.03905150905432 {'max_features': 4, 'n_estimators': 10}\n",
      "102.39401341381623 {'max_features': 4, 'n_estimators': 30}\n",
      "137.29514866979656 {'max_features': 6, 'n_estimators': 3}\n",
      "109.92087323943663 {'max_features': 6, 'n_estimators': 10}\n",
      "102.32909412951537 {'max_features': 6, 'n_estimators': 30}\n",
      "135.07285089505285 {'max_features': 8, 'n_estimators': 3}\n",
      "108.39176422643001 {'max_features': 8, 'n_estimators': 10}\n",
      "100.75988563951168 {'max_features': 8, 'n_estimators': 30}\n",
      "130.41416275430362 {'bootstrap': False, 'max_features': 2, 'n_estimators': 3}\n",
      "102.70327464788734 {'bootstrap': False, 'max_features': 2, 'n_estimators': 10}\n",
      "127.55179968701096 {'bootstrap': False, 'max_features': 3, 'n_estimators': 3}\n",
      "102.7202806885759 {'bootstrap': False, 'max_features': 3, 'n_estimators': 10}\n",
      "128.11747309252337 {'bootstrap': False, 'max_features': 4, 'n_estimators': 3}\n",
      "99.2841822362748 {'bootstrap': False, 'max_features': 4, 'n_estimators': 10}\n"
     ]
    }
   ],
   "source": [
    "cvres = grid_search.cv_results_\n",
    "for mean_score, params in zip(cvres[\"mean_test_score\"], cvres[\"params\"]):\n",
    "    print(np.abs(-mean_score), params)"
   ]
  },
  {
   "cell_type": "markdown",
   "id": "af9bf02e",
   "metadata": {},
   "source": [
    "--------"
   ]
  },
  {
   "cell_type": "markdown",
   "id": "72a66710",
   "metadata": {},
   "source": [
    "## 7. 테스트 데이터셋으로 최종 평가"
   ]
  },
  {
   "cell_type": "code",
   "execution_count": 95,
   "id": "4e28c335",
   "metadata": {},
   "outputs": [
    {
     "data": {
      "text/plain": [
       "2.019580892293826"
      ]
     },
     "execution_count": 95,
     "metadata": {},
     "output_type": "execute_result"
    }
   ],
   "source": [
    "from sklearn.compose import ColumnTransformer # 각 col별로 다른 transform을 해줄 수 있다.\n",
    "\n",
    "final_model = forest_reg\n",
    "\n",
    "# X_test = test_set.drop(\"DeliveryTime\", axis=1) # 학습을 위한 배달시간을 제외한 데이터셋\n",
    "# y_test = test_set[\"DeliveryTime\"].copy() # 배달시간\n",
    "\n",
    "# 칼럼 자료형 변환\n",
    "X_test['Rating'] = X_test['Rating'].apply(pd.to_numeric, errors = 'coerce')\n",
    "X_test['AverageCost'] =  X_test['AverageCost'].apply(pd.to_numeric, errors = 'coerce')\n",
    "\n",
    "# X_test_prepared = full_pipeline.fit_transform(X_test)\n",
    "# final_predictions = final_model.predict(X_test_prepared)\n",
    "\n",
    "# final_mae = mean_absolute_error(y_test, final_predictions)\n",
    "# final_mae  # MAE\n",
    "\n",
    "final_model = grid_search.best_estimator_ # 최종 모델 \n",
    "\n",
    "X_test = test_set.drop(\"DeliveryTime\", axis=1) # 학습을 위한 배달시간을 제외한 데이터셋\n",
    "y_test = test_set[\"DeliveryTime\"].copy() # 배달시간\n",
    "\n",
    "X_test_prepared = full_pipeline.transform(X_test)  # Error \n",
    "final_predictions = final_model.predict(X_test_prepared)\n",
    "\n",
    "final_mae = mean_absolute_error(y_test, final_predictions)\n",
    "final_mae  # MAE"
   ]
  },
  {
   "cell_type": "code",
   "execution_count": 96,
   "id": "5ef31b7e",
   "metadata": {},
   "outputs": [
    {
     "data": {
      "text/plain": [
       "27.35466426318161"
      ]
     },
     "execution_count": 96,
     "metadata": {},
     "output_type": "execute_result"
    }
   ],
   "source": [
    "final_under_predict = len(X_test[y_test > final_predictions]) / len(final_predictions) # 실제 배달시간이 더 걸린 경우\n",
    "final_under_predict * 100 #  Under-prediction의 비율"
   ]
  },
  {
   "cell_type": "markdown",
   "id": "8cda7c86",
   "metadata": {},
   "source": [
    "모델 세부조정에 있어 새로운 데이터를 학습하는데에 찾지 못하는 오류가 있어서 조정 전 RandomForest로 학습시켰습니다."
   ]
  }
 ],
 "metadata": {
  "kernelspec": {
   "display_name": "venv",
   "language": "python",
   "name": "venv"
  },
  "language_info": {
   "codemirror_mode": {
    "name": "ipython",
    "version": 3
   },
   "file_extension": ".py",
   "mimetype": "text/x-python",
   "name": "python",
   "nbconvert_exporter": "python",
   "pygments_lexer": "ipython3",
   "version": "3.6.9"
  }
 },
 "nbformat": 4,
 "nbformat_minor": 5
}
